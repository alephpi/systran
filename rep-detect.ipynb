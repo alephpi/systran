{
 "cells": [
  {
   "cell_type": "markdown",
   "id": "954054c5-f068-4f2f-aeef-6bc3467bd453",
   "metadata": {},
   "source": [
    "# word repetition detection"
   ]
  },
  {
   "cell_type": "markdown",
   "id": "40088628-4251-4674-bfb1-a4eaf45754c5",
   "metadata": {},
   "source": [
    "## spacy"
   ]
  },
  {
   "cell_type": "code",
   "execution_count": 1,
   "id": "17c98871-34ba-413d-83f5-39b5d0bda6f3",
   "metadata": {
    "tags": []
   },
   "outputs": [
    {
     "name": "stderr",
     "output_type": "stream",
     "text": [
      "/nfs/RESEARCH/mao/micromamba/envs/onmt-py/lib/python3.9/site-packages/tqdm/auto.py:21: TqdmWarning: IProgress not found. Please update jupyter and ipywidgets. See https://ipywidgets.readthedocs.io/en/stable/user_install.html\n",
      "  from .autonotebook import tqdm as notebook_tqdm\n"
     ]
    }
   ],
   "source": [
    "import spacy"
   ]
  },
  {
   "cell_type": "code",
   "execution_count": 2,
   "id": "708d84ee-8347-422c-b331-5a069c624def",
   "metadata": {
    "tags": []
   },
   "outputs": [],
   "source": [
    "# execute the following commands in shell\n",
    "# export LD_LIBRARY_PATH=~/micromamba/lib\n",
    "# python -m spacy download fr_core_news_lg"
   ]
  },
  {
   "cell_type": "code",
   "execution_count": 2,
   "id": "6320ee74-5f1e-46a3-9fd8-ae1d2295e7cf",
   "metadata": {
    "tags": []
   },
   "outputs": [],
   "source": [
    "frnlp = spacy.load(\"fr_core_news_lg\", disable=['parser','attribute_ruler','ner'])"
   ]
  },
  {
   "cell_type": "markdown",
   "id": "e3941974-bb81-4d75-92c5-2598a0c4e94c",
   "metadata": {
    "tags": []
   },
   "source": [
    "## quick start"
   ]
  },
  {
   "cell_type": "code",
   "execution_count": 17,
   "id": "15f59fb3-ac6f-4a6c-a14a-0aa0619ec373",
   "metadata": {},
   "outputs": [],
   "source": [
    "pos_example = \"Expliquez et expliquez les lois de la friction des limites.\"\n",
    "neg_example = \"Énoncez et expliquez les lois de la friction des limites.\""
   ]
  },
  {
   "cell_type": "code",
   "execution_count": 13,
   "id": "802012a2-f15c-4a2c-97c8-12d5abe4af3e",
   "metadata": {
    "tags": []
   },
   "outputs": [],
   "source": [
    "tokens = frnlp(pos_example)"
   ]
  },
  {
   "cell_type": "code",
   "execution_count": 14,
   "id": "45037897-d001-4cf2-b264-dbee20d0e383",
   "metadata": {
    "tags": []
   },
   "outputs": [
    {
     "name": "stdout",
     "output_type": "stream",
     "text": [
      "Expliquez True 28.721529 True\n",
      "et True 34.778656 True\n",
      "expliquez True 29.138958 True\n",
      "les True 32.644928 True\n",
      "lois True 30.863085 True\n",
      "de True 29.462963 True\n",
      "la True 33.883762 True\n",
      "friction True 31.723007 True\n",
      "des True 33.48726 True\n",
      "limites True 31.948713 True\n",
      ". True 32.006744 True\n"
     ]
    }
   ],
   "source": [
    "for token in tokens:\n",
    "    print(token.text, token.has_vector, token.vector_norm, token.is_oov)"
   ]
  },
  {
   "cell_type": "code",
   "execution_count": 16,
   "id": "8dfd0cb1-a5e1-4af7-a17c-37ab5b40d492",
   "metadata": {
    "tags": []
   },
   "outputs": [
    {
     "data": {
      "text/plain": [
       "(spacy.tokens.token.Token, spacy.tokens.doc.Doc)"
      ]
     },
     "execution_count": 16,
     "metadata": {},
     "output_type": "execute_result"
    }
   ],
   "source": [
    "type(token), type(tokens)"
   ]
  },
  {
   "cell_type": "markdown",
   "id": "6cb38906-cded-435f-b4fd-42489ee9c4ea",
   "metadata": {
    "jp-MarkdownHeadingCollapsed": true,
    "tags": []
   },
   "source": [
    "## tokenizer"
   ]
  },
  {
   "cell_type": "code",
   "execution_count": 252,
   "id": "484834a2-c707-4208-a854-90b6fa47a4ed",
   "metadata": {
    "tags": []
   },
   "outputs": [],
   "source": [
    "from spacy.tokenizer import Tokenizer"
   ]
  },
  {
   "cell_type": "code",
   "execution_count": 253,
   "id": "788e11c6-dca8-41d6-a078-0340d00f58fb",
   "metadata": {
    "tags": []
   },
   "outputs": [],
   "source": [
    "from spacy.lang.fr import French"
   ]
  },
  {
   "cell_type": "code",
   "execution_count": 254,
   "id": "a66f88ac-2b34-4c67-ab05-8eeefdf80b9d",
   "metadata": {
    "tags": []
   },
   "outputs": [],
   "source": [
    "nlp = French()"
   ]
  },
  {
   "cell_type": "code",
   "execution_count": 20,
   "id": "be9696d7-f474-48c3-a94d-8229276af150",
   "metadata": {
    "tags": []
   },
   "outputs": [],
   "source": [
    "tokenizer = Tokenizer(nlp.vocab)"
   ]
  },
  {
   "cell_type": "code",
   "execution_count": 22,
   "id": "ea651190-c49d-4484-8283-68478ae98a9f",
   "metadata": {
    "tags": []
   },
   "outputs": [],
   "source": [
    "tokens = tokenizer(pos_example)"
   ]
  },
  {
   "cell_type": "code",
   "execution_count": 25,
   "id": "c20deff0-c0eb-4916-8420-7922b80967c7",
   "metadata": {
    "tags": []
   },
   "outputs": [
    {
     "name": "stdout",
     "output_type": "stream",
     "text": [
      "Expliquez\n",
      "et\n",
      "expliquez\n",
      "les\n",
      "lois\n",
      "de\n",
      "la\n",
      "friction\n",
      "des\n",
      "limites.\n"
     ]
    }
   ],
   "source": [
    "for token in tokens:\n",
    "    print(token.text)"
   ]
  },
  {
   "cell_type": "markdown",
   "id": "e0538e0e-0168-44b3-9828-b7ea47781a97",
   "metadata": {},
   "source": [
    "seems we prefer the first tokenizer (which also seperates punctuations)"
   ]
  },
  {
   "cell_type": "code",
   "execution_count": 42,
   "id": "4e08b5ad-a198-4fcd-9e83-34aceff91f8e",
   "metadata": {
    "tags": []
   },
   "outputs": [
    {
     "name": "stdout",
     "output_type": "stream",
     "text": [
      "Expliquez\n",
      "et\n",
      "expliquez\n",
      "les\n",
      "lois\n",
      "de\n",
      "la\n",
      "friction\n",
      "des\n",
      "limites\n",
      ".\n"
     ]
    }
   ],
   "source": [
    "tokens = frnlp(pos_example)\n",
    "for token in tokens: print(token.text)"
   ]
  },
  {
   "cell_type": "markdown",
   "id": "a2edf49c-0bcd-4766-9512-8ae4806521d8",
   "metadata": {
    "jp-MarkdownHeadingCollapsed": true,
    "tags": []
   },
   "source": [
    "## lemmatizer"
   ]
  },
  {
   "cell_type": "code",
   "execution_count": 46,
   "id": "a86a87e3-4289-4731-9da5-2dca073432a8",
   "metadata": {
    "tags": []
   },
   "outputs": [],
   "source": [
    "lemmas = [token.lemma_ for token in tokens]"
   ]
  },
  {
   "cell_type": "code",
   "execution_count": 48,
   "id": "2c3025a0-7c21-4511-962d-0cca19052f30",
   "metadata": {
    "tags": []
   },
   "outputs": [
    {
     "data": {
      "text/plain": [
       "'expliquez'"
      ]
     },
     "execution_count": 48,
     "metadata": {},
     "output_type": "execute_result"
    }
   ],
   "source": [
    "Expliquez = tokens[0]\n",
    "Expliquez.lemma_"
   ]
  },
  {
   "cell_type": "code",
   "execution_count": 50,
   "id": "6daa4231-8b67-4be7-be63-35694b41418f",
   "metadata": {
    "tags": []
   },
   "outputs": [
    {
     "data": {
      "text/plain": [
       "'expliquer'"
      ]
     },
     "execution_count": 50,
     "metadata": {},
     "output_type": "execute_result"
    }
   ],
   "source": [
    "frnlp(Expliquez.lemma_)[0].lemma_"
   ]
  },
  {
   "cell_type": "code",
   "execution_count": 53,
   "id": "6d321319-bf40-46ef-86e1-d35f8d671b09",
   "metadata": {
    "tags": []
   },
   "outputs": [
    {
     "data": {
      "text/plain": [
       "'expliquer'"
      ]
     },
     "execution_count": 53,
     "metadata": {},
     "output_type": "execute_result"
    }
   ],
   "source": [
    "frnlp('expliquer')[0].lemma_"
   ]
  },
  {
   "cell_type": "code",
   "execution_count": 47,
   "id": "232335ef-cf00-425a-b4a2-0c53f426573c",
   "metadata": {
    "tags": []
   },
   "outputs": [
    {
     "data": {
      "text/plain": [
       "['expliquez',\n",
       " 'et',\n",
       " 'expliquer',\n",
       " 'le',\n",
       " 'loi',\n",
       " 'de',\n",
       " 'le',\n",
       " 'friction',\n",
       " 'de',\n",
       " 'limite',\n",
       " '.']"
      ]
     },
     "execution_count": 47,
     "metadata": {},
     "output_type": "execute_result"
    }
   ],
   "source": [
    "lemmas"
   ]
  },
  {
   "cell_type": "code",
   "execution_count": 38,
   "id": "4131dfda-ae82-4d34-9ebc-d2f2425a382d",
   "metadata": {
    "tags": []
   },
   "outputs": [
    {
     "name": "stdout",
     "output_type": "stream",
     "text": [
      "['le', 'loi']\n"
     ]
    }
   ],
   "source": [
    "ts = frnlp(\"les lois\")\n",
    "ls = [t.lemma_ for t in ts]\n",
    "print(ls)"
   ]
  },
  {
   "cell_type": "markdown",
   "id": "70be7e40-8175-4e30-a5fe-f781b49efe40",
   "metadata": {
    "jp-MarkdownHeadingCollapsed": true,
    "tags": []
   },
   "source": [
    "## morphologizer"
   ]
  },
  {
   "cell_type": "code",
   "execution_count": 41,
   "id": "bb83dfe0-94e2-4cdc-8f23-bcc1b8a09dd9",
   "metadata": {
    "tags": []
   },
   "outputs": [
    {
     "name": "stdout",
     "output_type": "stream",
     "text": [
      "[Definite=Def|Number=Plur|PronType=Art, Gender=Fem|Number=Plur]\n"
     ]
    }
   ],
   "source": [
    "ms = [t.morph for t in ts]\n",
    "print(ms)"
   ]
  },
  {
   "cell_type": "code",
   "execution_count": 56,
   "id": "a80f07a6-1dbe-41bf-b8c9-79ecc5406eb2",
   "metadata": {
    "tags": []
   },
   "outputs": [
    {
     "name": "stdout",
     "output_type": "stream",
     "text": [
      "['GOOD', 'Golden', 'Bridge', 'change']\n"
     ]
    }
   ],
   "source": [
    "bs = frnlp('GOOD Golden Bridge change')\n",
    "ls = [t.lemma_ for t in bs]\n",
    "print(ls)"
   ]
  },
  {
   "cell_type": "markdown",
   "id": "dad505b1-5e55-4a71-9fc0-2808b6108a38",
   "metadata": {
    "jp-MarkdownHeadingCollapsed": true,
    "tags": []
   },
   "source": [
    "## tagger"
   ]
  },
  {
   "cell_type": "code",
   "execution_count": 72,
   "id": "64a2f396-4842-499d-9961-8effa601d43c",
   "metadata": {
    "tags": []
   },
   "outputs": [
    {
     "name": "stdout",
     "output_type": "stream",
     "text": [
      "['DET', 'NOUN']\n",
      "['DET', 'NOUN']\n"
     ]
    }
   ],
   "source": [
    "tags = [t.tag_ for t in ts]\n",
    "print(tags)\n",
    "poss = [t.pos_ for t in ts]\n",
    "print(tags)"
   ]
  },
  {
   "cell_type": "markdown",
   "id": "04f62015-2bdf-47a3-8509-8e3aab5d3378",
   "metadata": {
    "jp-MarkdownHeadingCollapsed": true,
    "tags": []
   },
   "source": [
    "## pipeline"
   ]
  },
  {
   "cell_type": "code",
   "execution_count": 244,
   "id": "60790275-1d4a-475f-a1d5-0665a41d2c9b",
   "metadata": {
    "tags": []
   },
   "outputs": [],
   "source": [
    "nlp = frnlp\n",
    "def lemmatizer(word):\n",
    "    token = nlp(word)[0]\n",
    "    if token.text == token.lemma_:\n",
    "        return token\n",
    "    else:\n",
    "        return lemmatizer(nlp(token.lemma_))"
   ]
  },
  {
   "cell_type": "code",
   "execution_count": 68,
   "id": "dfdaec32-9269-4176-98bc-b5ea02ef4feb",
   "metadata": {
    "tags": []
   },
   "outputs": [
    {
     "data": {
      "text/plain": [
       "expliquer"
      ]
     },
     "execution_count": 68,
     "metadata": {},
     "output_type": "execute_result"
    }
   ],
   "source": [
    "lemmatizer('Expliquez')"
   ]
  },
  {
   "cell_type": "code",
   "execution_count": 225,
   "id": "e7d8f35b-4630-4e99-9a28-43ad3a20fbaf",
   "metadata": {
    "tags": []
   },
   "outputs": [
    {
     "data": {
      "text/plain": [
       "'e'"
      ]
     },
     "execution_count": 225,
     "metadata": {},
     "output_type": "execute_result"
    }
   ],
   "source": [
    "'Expliquez'[0].lower()"
   ]
  },
  {
   "cell_type": "markdown",
   "id": "d4fdaf95-9be7-4d65-9331-a2451b72ac88",
   "metadata": {},
   "source": [
    "we first process a sentence, this will automatically do tokenization, lemmatizing and pos-tagging. We need to count the repetitive words (in form of `lemmas`) which is a `open word`"
   ]
  },
  {
   "cell_type": "markdown",
   "id": "b2de69f2-8b03-4575-be5c-3fb6cf3c2699",
   "metadata": {},
   "source": [
    "## experiment"
   ]
  },
  {
   "cell_type": "code",
   "execution_count": 4,
   "id": "2baf577a-f4a5-463f-a2b2-212bba647f66",
   "metadata": {
    "tags": []
   },
   "outputs": [],
   "source": [
    "is_open = ['ADJ', 'ADV', 'INTJ', 'NOUN', 'PROPN', 'VERB']\n",
    "is_close = ['ADP', 'AUX', 'CCONJ', 'DET', 'NUM', 'PART', 'PRON', 'SCONJ']\n",
    "is_other =['PUNCT', 'SYM', 'X']"
   ]
  },
  {
   "cell_type": "code",
   "execution_count": 5,
   "id": "f6867ca8-d118-4c60-807d-6655db2b7f00",
   "metadata": {
    "tags": []
   },
   "outputs": [
    {
     "data": {
      "text/plain": [
       "'NOUN'"
      ]
     },
     "execution_count": 5,
     "metadata": {},
     "output_type": "execute_result"
    }
   ],
   "source": [
    "frnlp('mot')[0].pos_"
   ]
  },
  {
   "cell_type": "code",
   "execution_count": 6,
   "id": "3a7665bd-de58-4d66-b9bd-b55b5d356909",
   "metadata": {
    "tags": []
   },
   "outputs": [],
   "source": [
    "from collections import defaultdict"
   ]
  },
  {
   "cell_type": "code",
   "execution_count": 9,
   "id": "670a7c50-0fff-4905-b78a-7f9362d7d6aa",
   "metadata": {
    "tags": []
   },
   "outputs": [],
   "source": [
    "def counter(tokens, idx):\n",
    "    d = defaultdict(lambda: [0,float('inf'),float('-inf'),float('-inf')])\n",
    "    for i, (tok, ix) in enumerate(zip(tokens, idx)):\n",
    "        # multiplicity\n",
    "        d[tok][0] += 1\n",
    "        # min distance\n",
    "        dis = i - d[tok][2]\n",
    "        if dis < d[tok][1]:\n",
    "            d[tok][1] = dis \n",
    "            # repetition idx\n",
    "            d[tok][3] = ix\n",
    "        # latest pos\n",
    "        d[tok][2] = i\n",
    "    return {k: (v[0],v[1],v[3]) for k,v in d.items()}"
   ]
  },
  {
   "cell_type": "code",
   "execution_count": 10,
   "id": "e79f285b-a60b-433c-8298-b921f382b087",
   "metadata": {
    "tags": []
   },
   "outputs": [],
   "source": [
    "# Doc"
   ]
  },
  {
   "cell_type": "code",
   "execution_count": 11,
   "id": "ab75a119-64b8-442c-885b-de5c0ad47590",
   "metadata": {
    "tags": []
   },
   "outputs": [],
   "source": [
    "def rep_detect(sent, account=is_open, min_dist=3):\n",
    "    tokens = frnlp(sent)\n",
    "    lemmas = []\n",
    "    idx = []\n",
    "    for ix, token in enumerate(tokens):\n",
    "        if token.pos_ in account:\n",
    "            lemmas.append(token.lemma_)\n",
    "            idx.append(ix)\n",
    "    counts = counter(lemmas, idx)\n",
    "    \n",
    "    return {k: v for k, v in counts.items() if v[0] > 1 and v[1] < min_dist}"
   ]
  },
  {
   "cell_type": "code",
   "execution_count": 167,
   "id": "3ee0c22f-93e9-4dc9-a5f7-2b2a212647b8",
   "metadata": {
    "tags": []
   },
   "outputs": [
    {
     "data": {
      "text/plain": [
       "'a'"
      ]
     },
     "execution_count": 167,
     "metadata": {},
     "output_type": "execute_result"
    }
   ],
   "source": [
    "'\\u0332'.join('a')"
   ]
  },
  {
   "cell_type": "code",
   "execution_count": 168,
   "id": "7f2614da-7dcb-4445-b55b-21e77af3b998",
   "metadata": {
    "tags": []
   },
   "outputs": [
    {
     "name": "stdout",
     "output_type": "stream",
     "text": [
      "\u001b[4mUnderlined text\u001b[0m\n"
     ]
    }
   ],
   "source": [
    "print(\"\\033[4mUnderlined text\\033[0m\")"
   ]
  },
  {
   "cell_type": "code",
   "execution_count": 171,
   "id": "3db4a0ed-b84a-479d-8fd8-b84dd39a6786",
   "metadata": {
    "tags": []
   },
   "outputs": [
    {
     "data": {
      "text/plain": [
       "{'expliquer': (2, 1, 2)}"
      ]
     },
     "execution_count": 171,
     "metadata": {},
     "output_type": "execute_result"
    }
   ],
   "source": [
    "rep_detect(pos_example, is_open)"
   ]
  },
  {
   "cell_type": "code",
   "execution_count": 12,
   "id": "ebdeb01f-3fa9-48cb-b94a-c0539afd31c1",
   "metadata": {
    "tags": []
   },
   "outputs": [
    {
     "name": "stderr",
     "output_type": "stream",
     "text": [
      "100%|███████████████████████████████████████████████████████████████████████████████████████████████████████████████████████████████████████████████████| 3027/3027 [00:26<00:00, 113.59it/s]\n"
     ]
    }
   ],
   "source": [
    "from tqdm import tqdm\n",
    "with open('./corpus/test.fr', encoding='utf-8') as f:\n",
    "    reps = []\n",
    "    lines = f.readlines()\n",
    "    for i, l in tqdm(enumerate(lines), total=len(lines)):\n",
    "        rep = rep_detect(l, is_open)\n",
    "        if rep:\n",
    "            reps.append((i,rep))"
   ]
  },
  {
   "cell_type": "code",
   "execution_count": 21,
   "id": "d928dd73-9f48-4f75-99dc-b1b2a31e4dd3",
   "metadata": {
    "tags": []
   },
   "outputs": [],
   "source": [
    "def probe(corpus, i, rep):\n",
    "    sent = corpus[i]\n",
    "    tokens = frnlp(sent)\n",
    "    tokens = [token.text for token in tokens]\n",
    "    if rep:\n",
    "        for v in rep.values():\n",
    "            tokens[v[2]] = f\"\\033[4m{tokens[v[2]]}\\033[0m\"\n",
    "    sent_marked = ' '.join(tokens)\n",
    "    print(sent_marked)"
   ]
  },
  {
   "cell_type": "code",
   "execution_count": 15,
   "id": "0e360539-5a05-49fc-8dc1-98340472d64b",
   "metadata": {
    "tags": []
   },
   "outputs": [
    {
     "data": {
      "text/plain": [
       "[(13, {'-': (2, 2, 20)}),\n",
       " (25, {'financier': (2, 2, 33)}),\n",
       " (47, {'tel': (2, 1, 42)}),\n",
       " (92, {'mp3': (2, 2, 14)}),\n",
       " (116, {'temps': (2, 1, 13)}),\n",
       " (137, {'plus': (2, 1, 8)}),\n",
       " (138, {'internet': (2, 1, 25)}),\n",
       " (148, {'avoir': (2, 2, 10)}),\n",
       " (163, {'même': (2, 2, 6), 'heure': (2, 1, 39)}),\n",
       " (180, {'Mobile': (2, 2, 16)}),\n",
       " (190, {'moins': (2, 2, 15)}),\n",
       " (235, {'opérateur': (3, 2, 26)}),\n",
       " (268, {'question': (2, 2, 44)}),\n",
       " (279, {'plus': (2, 2, 8)}),\n",
       " (281, {'opérateur': (2, 2, 14)}),\n",
       " (282, {'trop': (2, 2, 17)}),\n",
       " (312, {'jour': (2, 1, 10)}),\n",
       " (372, {'image': (2, 1, 23)}),\n",
       " (400, {'accuser': (2, 2, 19)}),\n",
       " (403, {'pouvoir': (2, 2, 12)}),\n",
       " (448, {'métier': (2, 1, 14)}),\n",
       " (513, {'financier': (3, 2, 29)}),\n",
       " (535, {'peu': (2, 1, 19)}),\n",
       " (561, {'pas': (2, 2, 8)}),\n",
       " (570, {'Courir': (2, 1, 4)}),\n",
       " (591, {'banque': (2, 2, 9)}),\n",
       " (598, {'-': (2, 2, 44)}),\n",
       " (608, {'devoir': (2, 2, 21)}),\n",
       " (609, {'fédéral': (2, 2, 6)}),\n",
       " (619, {'crise': (3, 2, 43)}),\n",
       " (624, {'prochain': (2, 2, 28)}),\n",
       " (628, {'plus': (2, 1, 3)}),\n",
       " (629, {'ministère': (2, 2, 11)}),\n",
       " (630, {'fédéral': (3, 2, 28)}),\n",
       " (652, {'heure': (2, 1, 20)}),\n",
       " (656, {'Sylvana': (2, 2, 32)}),\n",
       " (664, {'mieux': (2, 1, 7)}),\n",
       " (673, {'préparer': (2, 2, 22)}),\n",
       " (705, {'ne': (3, 2, 23)}),\n",
       " (740, {'émotionnel': (2, 2, 36)}),\n",
       " (828, {'1:0': (2, 1, 3)}),\n",
       " (836, {'plus': (2, 2, 10)}),\n",
       " (861, {'tente': (2, 1, 19)}),\n",
       " (885, {'point': (2, 2, 20)}),\n",
       " (894, {'point': (2, 2, 20)}),\n",
       " (909, {'plus': (2, 2, 9)}),\n",
       " (917, {'-': (2, 2, 13), 'ne': (2, 2, 20)}),\n",
       " (977, {'-': (2, 2, 24)}),\n",
       " (1002, {'européen': (2, 2, 15)}),\n",
       " (1042, {'Herr': (2, 2, 26)}),\n",
       " (1073, {'pourcent': (2, 2, 23)}),\n",
       " (1124, {'ville': (2, 2, 18)}),\n",
       " (1247, {'route': (2, 1, 22)}),\n",
       " (1416, {'rue': (2, 2, 36)}),\n",
       " (1441, {'a.': (2, 1, 22)}),\n",
       " (1450, {'a.': (2, 1, 4)}),\n",
       " (1460, {'heure': (2, 2, 31)}),\n",
       " (1496, {'ne': (2, 2, 29)}),\n",
       " (1529, {'pas': (2, 2, 30)}),\n",
       " (1567, {'version': (2, 1, 9)}),\n",
       " (1575, {'vérité': (2, 2, 23)}),\n",
       " (1577, {'moins': (2, 1, 6), 'plus': (2, 1, 15)}),\n",
       " (1580, {'pouvoir': (2, 2, 4)}),\n",
       " (1586, {'recherche': (2, 1, 20)}),\n",
       " (1590, {'window': (2, 1, 11)}),\n",
       " (1591, {'plus': (2, 1, 10)}),\n",
       " (1636, {'litre': (2, 1, 26)}),\n",
       " (1645, {'précédent': (2, 2, 10)}),\n",
       " (1659, {'comment': (2, 2, 18)}),\n",
       " (1668, {'avoir': (2, 2, 6)}),\n",
       " (1690, {'faire': (2, 2, 26)}),\n",
       " (1701, {'laser': (2, 1, 21)}),\n",
       " (1719, {'pourcent': (2, 1, 10)}),\n",
       " (1734, {'non': (2, 1, 3)}),\n",
       " (1761, {'bras': (2, 2, 47)}),\n",
       " (1767, {'là': (2, 1, 2)}),\n",
       " (1770, {'tout': (2, 1, 8)}),\n",
       " (1783, {'réveiller': (2, 2, 11)}),\n",
       " (1788, {'fois': (3, 2, 41)}),\n",
       " (1790, {'nocturne': (2, 2, 20)}),\n",
       " (1820, {'tour': (2, 1, 27)}),\n",
       " (1841, {'ne': (2, 2, 17)}),\n",
       " (1862, {'point': (2, 1, 15)}),\n",
       " (1864, {'point': (3, 1, 33)}),\n",
       " (1873, {'crise': (3, 2, 51)}),\n",
       " (1875, {'pourcent': (4, 1, 17)}),\n",
       " (1904, {'pourcent': (3, 1, 15)}),\n",
       " (1906, {'pourcent': (2, 1, 36)}),\n",
       " (1920, {'pourcent': (2, 1, 24)}),\n",
       " (1940, {'milliard': (2, 2, 23)}),\n",
       " (1989, {'tout': (3, 2, 38)}),\n",
       " (2000, {'Québec': (2, 2, 23)}),\n",
       " (2097, {'pas': (3, 2, 30)}),\n",
       " (2128, {'public': (2, 2, 14)}),\n",
       " (2161, {'ne': (2, 2, 6)}),\n",
       " (2181, {'milliard': (2, 2, 29)}),\n",
       " (2182, {'milliard': (2, 2, 50)}),\n",
       " (2188, {'milliard': (2, 1, 31)}),\n",
       " (2226, {'Rachel': (2, 1, 3)}),\n",
       " (2240, {'faux': (2, 2, 48)}),\n",
       " (2282, {'Jos': (2, 1, 27)}),\n",
       " (2310, {'groupe': (2, 2, 36)}),\n",
       " (2337, {'crise': (2, 2, 14)}),\n",
       " (2381, {'pouvoir': (4, 1, 48)}),\n",
       " (2388, {'plus': (3, 2, 53)}),\n",
       " (2392, {'ami': (2, 2, 38)}),\n",
       " (2395, {'traitement': (2, 2, 47)}),\n",
       " (2397, {'plus': (3, 1, 67)}),\n",
       " (2399, {'être': (2, 1, 30), 'prochain': (2, 2, 37)}),\n",
       " (2418, {'bourse': (3, 2, 11)}),\n",
       " (2424, {'jour': (2, 1, 17)}),\n",
       " (2436, {'plus': (3, 1, 67)}),\n",
       " (2437, {'part': (2, 1, 26)}),\n",
       " (2451, {'plus': (2, 2, 21)}),\n",
       " (2466, {'jour': (2, 1, 40)}),\n",
       " (2470, {'-': (2, 2, 30)}),\n",
       " (2478, {'hypothèque': (2, 1, 38)}),\n",
       " (2508, {'textile': (2, 2, 18)}),\n",
       " (2512, {'secteur': (2, 2, 19)}),\n",
       " (2517, {'face': (3, 1, 55)}),\n",
       " (2526, {'jour': (2, 1, 11)}),\n",
       " (2529, {'avance': (2, 1, 31)}),\n",
       " (2534, {'ne': (2, 2, 29)}),\n",
       " (2548, {'-': (2, 2, 21)}),\n",
       " (2552, {'plus': (3, 2, 24)}),\n",
       " (2585, {'niveau': (2, 2, 70)}),\n",
       " (2601, {'plus': (4, 1, 3)}),\n",
       " (2631, {'force': (2, 2, 42)}),\n",
       " (2633, {'plus': (3, 1, 11)}),\n",
       " (2636, {'politique': (2, 2, 20)}),\n",
       " (2637, {'pas': (2, 2, 11)}),\n",
       " (2640, {'plus': (4, 1, 53)}),\n",
       " (2651, {'milliard': (2, 1, 20)}),\n",
       " (2676, {'plus': (3, 2, 18)}),\n",
       " (2691, {'horaire': (2, 1, 27)}),\n",
       " (2705, {'attention': (2, 2, 28)}),\n",
       " (2738, {'temps': (2, 1, 20)}),\n",
       " (2769, {'crise': (2, 2, 9)}),\n",
       " (2780, {'-': (2, 2, 21)}),\n",
       " (2789, {'jour': (3, 2, 25)}),\n",
       " (2802, {'changement': (2, 2, 17)}),\n",
       " (2805, {'crise': (2, 2, 8), 'seul': (2, 2, 53)}),\n",
       " (2808, {'divers': (2, 2, 42)}),\n",
       " (2814, {'-': (2, 2, 23)}),\n",
       " (2822, {'dernier': (2, 2, 53)}),\n",
       " (2885, {'plus': (4, 2, 37)}),\n",
       " (2983, {'maire': (3, 2, 22)}),\n",
       " (2990, {'local': (2, 2, 38)}),\n",
       " (3010, {'New': (2, 2, 18)})]"
      ]
     },
     "execution_count": 15,
     "metadata": {},
     "output_type": "execute_result"
    }
   ],
   "source": [
    "reps"
   ]
  },
  {
   "cell_type": "code",
   "execution_count": 16,
   "id": "4a91b24c-b0c6-4e04-8798-d955fa75a85b",
   "metadata": {
    "tags": []
   },
   "outputs": [
    {
     "name": "stdout",
     "output_type": "stream",
     "text": [
      "L' argent provient autant de banques privées que de \u001b[4mbanques\u001b[0m de droit public . \n",
      "\n"
     ]
    }
   ],
   "source": [
    "probe(lines, reps[25][0], reps[25][1])"
   ]
  },
  {
   "cell_type": "code",
   "execution_count": 18,
   "id": "5f0a947b-4df9-44b9-b957-9b5bb7e2d186",
   "metadata": {
    "tags": []
   },
   "outputs": [],
   "source": [
    "rep = rep_detect(pos_example)"
   ]
  },
  {
   "cell_type": "code",
   "execution_count": 27,
   "id": "fb0bfb0b-e013-4c99-b389-53b4a9a76d91",
   "metadata": {
    "tags": []
   },
   "outputs": [],
   "source": [
    "reps = [(0, rep)]"
   ]
  },
  {
   "cell_type": "code",
   "execution_count": 28,
   "id": "a81774e0-310e-4c50-b77f-1c7f06904385",
   "metadata": {
    "tags": []
   },
   "outputs": [
    {
     "data": {
      "text/plain": [
       "[(0, {'expliquer': (2, 1, 2)})]"
      ]
     },
     "execution_count": 28,
     "metadata": {},
     "output_type": "execute_result"
    }
   ],
   "source": [
    "reps"
   ]
  },
  {
   "cell_type": "code",
   "execution_count": 29,
   "id": "c4082752-c479-4151-9235-51d5ba9f2d1e",
   "metadata": {
    "tags": []
   },
   "outputs": [
    {
     "name": "stdout",
     "output_type": "stream",
     "text": [
      "Expliquez et \u001b[4mexpliquez\u001b[0m les lois de la friction des limites .\n"
     ]
    }
   ],
   "source": [
    "probe([pos_example], reps[0][0], reps[0][1])"
   ]
  },
  {
   "cell_type": "code",
   "execution_count": 30,
   "id": "79321dd3-36f4-4da4-ade6-7dabe26ee89f",
   "metadata": {
    "tags": []
   },
   "outputs": [
    {
     "data": {
      "text/plain": [
       "('Expliquez et expliquez les lois de la friction des limites.',\n",
       " 'Énoncez et expliquez les lois de la friction des limites.')"
      ]
     },
     "execution_count": 30,
     "metadata": {},
     "output_type": "execute_result"
    }
   ],
   "source": [
    "pos_example, neg_example"
   ]
  }
 ],
 "metadata": {
  "kernelspec": {
   "display_name": "Python 3 (ipykernel)",
   "language": "python",
   "name": "python3"
  },
  "language_info": {
   "codemirror_mode": {
    "name": "ipython",
    "version": 3
   },
   "file_extension": ".py",
   "mimetype": "text/x-python",
   "name": "python",
   "nbconvert_exporter": "python",
   "pygments_lexer": "ipython3",
   "version": "3.9.0"
  }
 },
 "nbformat": 4,
 "nbformat_minor": 5
}
