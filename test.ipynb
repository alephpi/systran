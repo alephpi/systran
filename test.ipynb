{
 "cells": [
  {
   "cell_type": "code",
   "execution_count": 4,
   "metadata": {},
   "outputs": [
    {
     "name": "stdout",
     "output_type": "stream",
     "text": [
      "The autoreload extension is already loaded. To reload it, use:\n",
      "  %reload_ext autoreload\n"
     ]
    }
   ],
   "source": [
    "%load_ext autoreload\n",
    "%autoreload 2"
   ]
  },
  {
   "attachments": {},
   "cell_type": "markdown",
   "metadata": {},
   "source": [
    "## initialization"
   ]
  },
  {
   "cell_type": "code",
   "execution_count": 5,
   "metadata": {},
   "outputs": [
    {
     "name": "stdout",
     "output_type": "stream",
     "text": [
      "209129472\n"
     ]
    },
    {
     "data": {
      "text/plain": [
       "'Cette fois-ci, la baisse est due à la chute des actions au Wall Street.\\n'"
      ]
     },
     "execution_count": 5,
     "metadata": {},
     "output_type": "execute_result"
    }
   ],
   "source": [
    "from beam_search import create_dataset\n",
    "from data import encode_line, load_vocabulary\n",
    "from model import Transformer\n",
    "import torch\n",
    "import torch.nn as nn\n",
    "import argparse\n",
    "\n",
    "args = argparse.Namespace()\n",
    "args.src_vocab = '../corpus/vocab_en_fr.txt'\n",
    "args.tgt_vocab = '../corpus/vocab_en_fr.txt'\n",
    "args.ckpt = './averaged_checkpoint.pt'\n",
    "args.device = 'cpu'\n",
    "\n",
    "batch_size = 16\n",
    "beam_size = 5\n",
    "length_penalty = 1\n",
    "max_length = 256\n",
    "\n",
    "source_vocabulary, _ = load_vocabulary(args.src_vocab)\n",
    "target_vocabulary, target_vocabulary_rev = load_vocabulary(args.tgt_vocab)\n",
    "\n",
    "bos = target_vocabulary[\"<s>\"]\n",
    "eos = target_vocabulary[\"</s>\"]\n",
    "model = Transformer(\n",
    "    len(source_vocabulary),\n",
    "    len(target_vocabulary),\n",
    "    share_embeddings=True,\n",
    ")\n",
    "checkpoint = torch.load(args.ckpt)\n",
    "model.load_state_dict(checkpoint[\"model\"])\n",
    "model.to(args.device)\n",
    "model.eval()\n",
    "n = 0\n",
    "for param in model.parameters():\n",
    "    # print(param.shape)\n",
    "    n += param.numel()\n",
    "print(n)\n",
    "\n",
    "source_path = '../corpus/rep_test.en.tok'\n",
    "dataset = create_dataset(\n",
    "    source_path, source_vocabulary, batch_size, args.device)\n",
    "ref_path = '../corpus/rep_test.fr'\n",
    "with open(ref_path, 'r', encoding='utf-8') as file:\n",
    "    ref = file.readlines()\n",
    "ref[0]"
   ]
  },
  {
   "attachments": {},
   "cell_type": "markdown",
   "metadata": {},
   "source": [
    "## helper functions"
   ]
  },
  {
   "cell_type": "code",
   "execution_count": 6,
   "metadata": {},
   "outputs": [],
   "source": [
    "def view(hypotheses):\n",
    "    for hypo in hypotheses:\n",
    "        score = hypo[0].item()\n",
    "        tokens = hypo[1]\n",
    "        if tokens and tokens[-1] == eos:\n",
    "            tokens.pop(-1)\n",
    "        tokens = [target_vocabulary_rev[token_id] for token_id in tokens]\n",
    "        print(f\"{score:.4f}\", \" \".join(tokens))"
   ]
  },
  {
   "attachments": {},
   "cell_type": "markdown",
   "metadata": {},
   "source": [
    "## inference analysis"
   ]
  },
  {
   "cell_type": "code",
   "execution_count": 7,
   "metadata": {},
   "outputs": [],
   "source": [
    "from my_beam_search import beam_search"
   ]
  },
  {
   "cell_type": "code",
   "execution_count": 8,
   "metadata": {},
   "outputs": [],
   "source": [
    "batch = next(iter(dataset))"
   ]
  },
  {
   "cell_type": "code",
   "execution_count": 9,
   "metadata": {},
   "outputs": [],
   "source": [
    "from utils import *"
   ]
  },
  {
   "attachments": {},
   "cell_type": "markdown",
   "metadata": {},
   "source": [
    "### original version"
   ]
  },
  {
   "cell_type": "code",
   "execution_count": 10,
   "metadata": {},
   "outputs": [],
   "source": [
    "# we just take small batch_size for test\n",
    "# _ = beam_search(model, batch[None, 0], bos, eos)\n",
    "with torch.no_grad():\n",
    "    result = beam_search(\n",
    "        model, batch[0:2], bos, eos, rep_penalty=False)"
   ]
  },
  {
   "attachments": {},
   "cell_type": "markdown",
   "metadata": {},
   "source": [
    "result is a batch of data, whose element is (score, sentence)"
   ]
  },
  {
   "cell_type": "code",
   "execution_count": 11,
   "metadata": {},
   "outputs": [
    {
     "name": "stdout",
     "output_type": "stream",
     "text": [
      "-0.2325 Cette fois ￭, la chute des actions de Wall Street est responsable de la chute ￭.\n",
      "-0.2389 Cette fois ￭, la chute des actions de Wall Street en est la cause ￭.\n",
      "-0.2402 Cette fois ￭-￭ ci ￭, la chute des actions de Wall Street est responsable de la chute ￭.\n",
      "-0.2528 Cette fois ￭-￭ ci ￭, la chute des actions de Wall Street en est la cause ￭.\n",
      "-0.2846 Cette fois ￭, la chute des actions de Wall Street est responsable de la baisse ￭.\n",
      "-0.3051 Cette fois ￭-￭ ci ￭, la chute des actions de Wall Street est responsable de la baisse ￭.\n",
      "-0.3260 Cette fois ￭, la chute des actions de Wall Street est responsable de la chute des cours ￭.\n"
     ]
    }
   ],
   "source": [
    "view(result[0])"
   ]
  },
  {
   "attachments": {},
   "cell_type": "markdown",
   "metadata": {},
   "source": [
    "Maybe what we want is \n",
    "\n",
    "`Cette fois ￭, la chute des actions de Wall Street est responsable de la baisse ￭.`\n",
    "\n",
    "However, it is not the second candidate"
   ]
  },
  {
   "attachments": {},
   "cell_type": "markdown",
   "metadata": {},
   "source": [
    "### naive version"
   ]
  },
  {
   "cell_type": "code",
   "execution_count": 12,
   "metadata": {},
   "outputs": [],
   "source": [
    "# we just take small batch_size for test\n",
    "# _ = beam_search(model, batch[None, 0], bos, eos)\n",
    "with torch.no_grad():\n",
    "    penalized_result = beam_search(\n",
    "        model, batch[0:2], bos, eos, rep_penalty=True, naive_penalty=5)"
   ]
  },
  {
   "cell_type": "code",
   "execution_count": 13,
   "metadata": {},
   "outputs": [
    {
     "name": "stdout",
     "output_type": "stream",
     "text": [
      "-0.3882 Cette fois ￭-￭ ci ￭, la chute des actions de Wall Street en est responsable ￭.\n",
      "-0.4981 Cette fois ￭-￭ ci ￭, la baisse des actions de Wall Street en est responsable ￭.\n",
      "-0.5306 Cette fois ￭-￭ ci ￭, la chute des actions de Wall Street en est la cause ￭.\n",
      "-0.7309 Cette fois ￭-￭ ci ￭, la chute des actions de Wall Street est à l ￭’￭ origine de cette baisse ￭.\n",
      "-0.7371 Cette fois ￭-￭ ci ￭, la chute des actions de Wall Street est à l ￭'￭ origine de cette baisse ￭.\n",
      "-0.7391 Cette fois ￭-￭ ci ￭, la chute des actions de Wall Street est à l ￭’￭ œuvre ￭.\n",
      "-0.8594 Cette fois ￭-￭ ci ￭, la chute des actions de Wall Street est à l ￭’￭ origine de la baisse ￭.\n",
      "-0.9045 Cette fois ￭-￭ ci ￭, la chute des actions de Wall Street est à l ￭’￭ origine de cette diminution ￭.\n",
      "-0.9075 Cette fois ￭-￭ ci ￭, la chute des actions de Wall Street est à l ￭'￭ origine de cette diminution ￭.\n"
     ]
    }
   ],
   "source": [
    "view(penalized_result[0])"
   ]
  },
  {
   "attachments": {},
   "cell_type": "markdown",
   "metadata": {},
   "source": [
    "### mask version"
   ]
  },
  {
   "cell_type": "code",
   "execution_count": 63,
   "metadata": {},
   "outputs": [
    {
     "name": "stderr",
     "output_type": "stream",
     "text": [
      "100%|██████████| 32000/32000 [00:00<00:00, 1655557.82it/s]\n"
     ]
    }
   ],
   "source": [
    "from my_beam_search import calc_mask\n",
    "\n",
    "\n",
    "penalty_mask, leading_marker = calc_mask(target_vocabulary)"
   ]
  },
  {
   "cell_type": "code",
   "execution_count": 64,
   "metadata": {},
   "outputs": [
    {
     "data": {
      "text/plain": [
       "tensor([0., 0., 0.,  ..., 1., 0., 0.])"
      ]
     },
     "execution_count": 64,
     "metadata": {},
     "output_type": "execute_result"
    }
   ],
   "source": [
    "leading_marker"
   ]
  },
  {
   "cell_type": "code",
   "execution_count": 15,
   "metadata": {},
   "outputs": [],
   "source": [
    "torch.save(penalty_mask, 'penalty_mask.pt')"
   ]
  },
  {
   "cell_type": "code",
   "execution_count": 16,
   "metadata": {},
   "outputs": [],
   "source": [
    "penalty_mask = torch.load('penalty_mask.pt')"
   ]
  },
  {
   "cell_type": "code",
   "execution_count": 17,
   "metadata": {},
   "outputs": [],
   "source": [
    "# we just take small batch_size for test\n",
    "# _ = beam_search(model, batch[None, 0], bos, eos)\n",
    "with torch.no_grad():\n",
    "    penalized_result = beam_search(\n",
    "        model, batch[0:2], bos, eos, rep_penalty=True, naive_penalty=2, penalty_mask=penalty_mask)"
   ]
  },
  {
   "cell_type": "code",
   "execution_count": 18,
   "metadata": {},
   "outputs": [
    {
     "name": "stdout",
     "output_type": "stream",
     "text": [
      "-0.2389 Cette fois ￭, la chute des actions de Wall Street en est la cause ￭.\n",
      "-0.2528 Cette fois ￭-￭ ci ￭, la chute des actions de Wall Street en est la cause ￭.\n",
      "-0.2846 Cette fois ￭, la chute des actions de Wall Street est responsable de la baisse ￭.\n",
      "-0.3051 Cette fois ￭-￭ ci ￭, la chute des actions de Wall Street est responsable de la baisse ￭.\n",
      "-0.3103 Cette fois ￭, la baisse des actions de Wall Street est responsable de la chute ￭.\n",
      "-0.3454 Cette fois ￭-￭ ci ￭, la chute des actions de Wall Street est responsable de la chute ￭.\n",
      "-0.3845 Cette fois ￭, la chute des actions de Wall Street est responsable de la baisse des cours ￭.\n"
     ]
    }
   ],
   "source": [
    "view(penalized_result[0])"
   ]
  },
  {
   "attachments": {},
   "cell_type": "markdown",
   "metadata": {},
   "source": [
    "## evaluation"
   ]
  },
  {
   "cell_type": "code",
   "execution_count": 96,
   "metadata": {},
   "outputs": [],
   "source": [
    "def experi(model, dataset, **kwarg):\n",
    "    isMask = 'penalty_mask' in kwarg\n",
    "    filename = '_'.join(\n",
    "        [f'{key}_{value}' for key, value in kwarg.items() if key != 'penalty_mask'])+('_mask' if isMask else '')+'.fr.tok'\n",
    "    print(filename)\n",
    "    with open('./corpus/'+filename, 'w', encoding='utf-8') as file:\n",
    "        with torch.no_grad():\n",
    "            for batch in dataset:\n",
    "                result = beam_search(model, batch, bos, eos, **kwarg)\n",
    "                # result = (batch_size, ), hypo = (score, sent)\n",
    "                for hypotheses in result:\n",
    "                    tokens = hypotheses[0][1]\n",
    "                    if tokens and tokens[-1] == eos:\n",
    "                        tokens.pop(-1)\n",
    "                    tokens = [target_vocabulary_rev[token_id]\n",
    "                              for token_id in tokens]\n",
    "                    print(\" \".join(tokens), file=file, flush=True)"
   ]
  },
  {
   "cell_type": "code",
   "execution_count": 100,
   "metadata": {},
   "outputs": [
    {
     "name": "stdout",
     "output_type": "stream",
     "text": [
      "naive_penalty_3.fr.tok\n"
     ]
    }
   ],
   "source": [
    "kwarg = {\n",
    "    'naive_penalty': 3\n",
    "}\n",
    "experi(model, dataset, **kwarg)"
   ]
  },
  {
   "cell_type": "code",
   "execution_count": 101,
   "metadata": {},
   "outputs": [
    {
     "name": "stdout",
     "output_type": "stream",
     "text": [
      "naive_penalty_3_mask.fr.tok\n"
     ]
    },
    {
     "ename": "KeyboardInterrupt",
     "evalue": "",
     "output_type": "error",
     "traceback": [
      "\u001b[0;31m---------------------------------------------------------------------------\u001b[0m",
      "\u001b[0;31mKeyboardInterrupt\u001b[0m                         Traceback (most recent call last)",
      "Cell \u001b[0;32mIn[101], line 5\u001b[0m\n\u001b[1;32m      1\u001b[0m kwarg \u001b[39m=\u001b[39m {\n\u001b[1;32m      2\u001b[0m     \u001b[39m'\u001b[39m\u001b[39mnaive_penalty\u001b[39m\u001b[39m'\u001b[39m: \u001b[39m3\u001b[39m,\n\u001b[1;32m      3\u001b[0m     \u001b[39m'\u001b[39m\u001b[39mpenalty_mask\u001b[39m\u001b[39m'\u001b[39m: penalty_mask,\n\u001b[1;32m      4\u001b[0m }\n\u001b[0;32m----> 5\u001b[0m experi(model, dataset, \u001b[39m*\u001b[39;49m\u001b[39m*\u001b[39;49mkwarg)\n",
      "Cell \u001b[0;32mIn[96], line 9\u001b[0m, in \u001b[0;36mexperi\u001b[0;34m(model, dataset, **kwarg)\u001b[0m\n\u001b[1;32m      7\u001b[0m \u001b[39mwith\u001b[39;00m torch\u001b[39m.\u001b[39mno_grad():\n\u001b[1;32m      8\u001b[0m     \u001b[39mfor\u001b[39;00m batch \u001b[39min\u001b[39;00m dataset:\n\u001b[0;32m----> 9\u001b[0m         result \u001b[39m=\u001b[39m beam_search(model, batch, bos, eos, \u001b[39m*\u001b[39;49m\u001b[39m*\u001b[39;49mkwarg)\n\u001b[1;32m     10\u001b[0m         \u001b[39m# result = (batch_size, ), hypo = (score, sent)\u001b[39;00m\n\u001b[1;32m     11\u001b[0m         \u001b[39mfor\u001b[39;00m hypotheses \u001b[39min\u001b[39;00m result:\n",
      "File \u001b[0;32m~/pytorch-transformer/my_beam_search.py:110\u001b[0m, in \u001b[0;36mbeam_search\u001b[0;34m(model, src_ids, bos, eos, rep_penalty, naive_penalty, penalty_mask, penalty_decay)\u001b[0m\n\u001b[1;32m    107\u001b[0m \u001b[39mfor\u001b[39;00m step \u001b[39min\u001b[39;00m \u001b[39mrange\u001b[39m(max_length):  \u001b[39m# inference step, beam forward\u001b[39;00m\n\u001b[1;32m    108\u001b[0m     \u001b[39m# the last output for next input, view it as a batch of 10\u001b[39;00m\n\u001b[1;32m    109\u001b[0m     tgt_inputs \u001b[39m=\u001b[39m tgt_ids[:, :, \u001b[39m-\u001b[39m\u001b[39m1\u001b[39m]\u001b[39m.\u001b[39mview(\u001b[39m-\u001b[39m\u001b[39m1\u001b[39m, \u001b[39m1\u001b[39m)\n\u001b[0;32m--> 110\u001b[0m     decoder_output \u001b[39m=\u001b[39m model\u001b[39m.\u001b[39;49mdecode(\n\u001b[1;32m    111\u001b[0m         tgt_inputs,\n\u001b[1;32m    112\u001b[0m         encoder_output,\n\u001b[1;32m    113\u001b[0m         src_mask\u001b[39m=\u001b[39;49msrc_mask,\n\u001b[1;32m    114\u001b[0m         kv_cache\u001b[39m=\u001b[39;49mkv_cache,\n\u001b[1;32m    115\u001b[0m     )\n\u001b[1;32m    117\u001b[0m     decoder_output \u001b[39m=\u001b[39m decoder_output[:, \u001b[39m-\u001b[39m\u001b[39m1\u001b[39m]  \u001b[39m# choose the last token\u001b[39;00m\n\u001b[1;32m    118\u001b[0m     logits \u001b[39m=\u001b[39m model\u001b[39m.\u001b[39moutput_layer(decoder_output)\n",
      "File \u001b[0;32m~/pytorch-transformer/model.py:121\u001b[0m, in \u001b[0;36mTransformer.decode\u001b[0;34m(self, tgt_ids, encoder_output, src_mask, kv_cache)\u001b[0m\n\u001b[1;32m    118\u001b[0m tgt_mask \u001b[39m=\u001b[39m tgt_mask\u001b[39m.\u001b[39mmasked_fill(tgt_padding_mask, \u001b[39mfloat\u001b[39m(\u001b[39m\"\u001b[39m\u001b[39m-inf\u001b[39m\u001b[39m\"\u001b[39m))\n\u001b[1;32m    119\u001b[0m tgt_mask \u001b[39m=\u001b[39m tgt_mask\u001b[39m.\u001b[39mview(\u001b[39m-\u001b[39m\u001b[39m1\u001b[39m, \u001b[39m1\u001b[39m, tgt_max_len, tgt_max_len)\n\u001b[0;32m--> 121\u001b[0m outputs \u001b[39m=\u001b[39m \u001b[39mself\u001b[39;49m\u001b[39m.\u001b[39;49mdecoder(\n\u001b[1;32m    122\u001b[0m     tgt_inputs,\n\u001b[1;32m    123\u001b[0m     encoder_output,\n\u001b[1;32m    124\u001b[0m     mask\u001b[39m=\u001b[39;49mtgt_mask,\n\u001b[1;32m    125\u001b[0m     memory_mask\u001b[39m=\u001b[39;49msrc_mask,\n\u001b[1;32m    126\u001b[0m     kv_cache\u001b[39m=\u001b[39;49mkv_cache,\n\u001b[1;32m    127\u001b[0m )\n\u001b[1;32m    129\u001b[0m \u001b[39mreturn\u001b[39;00m outputs\n",
      "File \u001b[0;32m~/micromamba/envs/mini-trans/lib/python3.9/site-packages/torch/nn/modules/module.py:1501\u001b[0m, in \u001b[0;36mModule._call_impl\u001b[0;34m(self, *args, **kwargs)\u001b[0m\n\u001b[1;32m   1496\u001b[0m \u001b[39m# If we don't have any hooks, we want to skip the rest of the logic in\u001b[39;00m\n\u001b[1;32m   1497\u001b[0m \u001b[39m# this function, and just call forward.\u001b[39;00m\n\u001b[1;32m   1498\u001b[0m \u001b[39mif\u001b[39;00m \u001b[39mnot\u001b[39;00m (\u001b[39mself\u001b[39m\u001b[39m.\u001b[39m_backward_hooks \u001b[39mor\u001b[39;00m \u001b[39mself\u001b[39m\u001b[39m.\u001b[39m_backward_pre_hooks \u001b[39mor\u001b[39;00m \u001b[39mself\u001b[39m\u001b[39m.\u001b[39m_forward_hooks \u001b[39mor\u001b[39;00m \u001b[39mself\u001b[39m\u001b[39m.\u001b[39m_forward_pre_hooks\n\u001b[1;32m   1499\u001b[0m         \u001b[39mor\u001b[39;00m _global_backward_pre_hooks \u001b[39mor\u001b[39;00m _global_backward_hooks\n\u001b[1;32m   1500\u001b[0m         \u001b[39mor\u001b[39;00m _global_forward_hooks \u001b[39mor\u001b[39;00m _global_forward_pre_hooks):\n\u001b[0;32m-> 1501\u001b[0m     \u001b[39mreturn\u001b[39;00m forward_call(\u001b[39m*\u001b[39;49margs, \u001b[39m*\u001b[39;49m\u001b[39m*\u001b[39;49mkwargs)\n\u001b[1;32m   1502\u001b[0m \u001b[39m# Do not call functions when jit is used\u001b[39;00m\n\u001b[1;32m   1503\u001b[0m full_backward_hooks, non_full_backward_hooks \u001b[39m=\u001b[39m [], []\n",
      "File \u001b[0;32m~/pytorch-transformer/model.py:170\u001b[0m, in \u001b[0;36mTransformerDecoder.forward\u001b[0;34m(self, x, memory, mask, memory_mask, kv_cache)\u001b[0m\n\u001b[1;32m    168\u001b[0m \u001b[39mdef\u001b[39;00m \u001b[39mforward\u001b[39m(\u001b[39mself\u001b[39m, x, memory, mask\u001b[39m=\u001b[39m\u001b[39mNone\u001b[39;00m, memory_mask\u001b[39m=\u001b[39m\u001b[39mNone\u001b[39;00m, kv_cache\u001b[39m=\u001b[39m\u001b[39mNone\u001b[39;00m):\n\u001b[1;32m    169\u001b[0m     \u001b[39mfor\u001b[39;00m layer \u001b[39min\u001b[39;00m \u001b[39mself\u001b[39m\u001b[39m.\u001b[39mlayers:\n\u001b[0;32m--> 170\u001b[0m         x \u001b[39m=\u001b[39m layer(x, memory, mask\u001b[39m=\u001b[39;49mmask,\n\u001b[1;32m    171\u001b[0m                   memory_mask\u001b[39m=\u001b[39;49mmemory_mask, kv_cache\u001b[39m=\u001b[39;49mkv_cache)\n\u001b[1;32m    173\u001b[0m     x \u001b[39m=\u001b[39m \u001b[39mself\u001b[39m\u001b[39m.\u001b[39mnorm(x)\n\u001b[1;32m    174\u001b[0m     \u001b[39mreturn\u001b[39;00m x\n",
      "File \u001b[0;32m~/micromamba/envs/mini-trans/lib/python3.9/site-packages/torch/nn/modules/module.py:1501\u001b[0m, in \u001b[0;36mModule._call_impl\u001b[0;34m(self, *args, **kwargs)\u001b[0m\n\u001b[1;32m   1496\u001b[0m \u001b[39m# If we don't have any hooks, we want to skip the rest of the logic in\u001b[39;00m\n\u001b[1;32m   1497\u001b[0m \u001b[39m# this function, and just call forward.\u001b[39;00m\n\u001b[1;32m   1498\u001b[0m \u001b[39mif\u001b[39;00m \u001b[39mnot\u001b[39;00m (\u001b[39mself\u001b[39m\u001b[39m.\u001b[39m_backward_hooks \u001b[39mor\u001b[39;00m \u001b[39mself\u001b[39m\u001b[39m.\u001b[39m_backward_pre_hooks \u001b[39mor\u001b[39;00m \u001b[39mself\u001b[39m\u001b[39m.\u001b[39m_forward_hooks \u001b[39mor\u001b[39;00m \u001b[39mself\u001b[39m\u001b[39m.\u001b[39m_forward_pre_hooks\n\u001b[1;32m   1499\u001b[0m         \u001b[39mor\u001b[39;00m _global_backward_pre_hooks \u001b[39mor\u001b[39;00m _global_backward_hooks\n\u001b[1;32m   1500\u001b[0m         \u001b[39mor\u001b[39;00m _global_forward_hooks \u001b[39mor\u001b[39;00m _global_forward_pre_hooks):\n\u001b[0;32m-> 1501\u001b[0m     \u001b[39mreturn\u001b[39;00m forward_call(\u001b[39m*\u001b[39;49margs, \u001b[39m*\u001b[39;49m\u001b[39m*\u001b[39;49mkwargs)\n\u001b[1;32m   1502\u001b[0m \u001b[39m# Do not call functions when jit is used\u001b[39;00m\n\u001b[1;32m   1503\u001b[0m full_backward_hooks, non_full_backward_hooks \u001b[39m=\u001b[39m [], []\n",
      "File \u001b[0;32m~/pytorch-transformer/model.py:220\u001b[0m, in \u001b[0;36mTransformerDecoderLayer.forward\u001b[0;34m(self, x, memory, mask, memory_mask, kv_cache)\u001b[0m\n\u001b[1;32m    218\u001b[0m \u001b[39mdef\u001b[39;00m \u001b[39mforward\u001b[39m(\u001b[39mself\u001b[39m, x, memory, mask\u001b[39m=\u001b[39m\u001b[39mNone\u001b[39;00m, memory_mask\u001b[39m=\u001b[39m\u001b[39mNone\u001b[39;00m, kv_cache\u001b[39m=\u001b[39m\u001b[39mNone\u001b[39;00m):\n\u001b[1;32m    219\u001b[0m     y \u001b[39m=\u001b[39m \u001b[39mself\u001b[39m\u001b[39m.\u001b[39mself_attention(\u001b[39mself\u001b[39m\u001b[39m.\u001b[39mnorm1(x), mask\u001b[39m=\u001b[39mmask, kv_cache\u001b[39m=\u001b[39mkv_cache)\n\u001b[0;32m--> 220\u001b[0m     x \u001b[39m=\u001b[39m \u001b[39mself\u001b[39;49m\u001b[39m.\u001b[39;49mdropout(y) \u001b[39m+\u001b[39;49m x\n\u001b[1;32m    222\u001b[0m     y \u001b[39m=\u001b[39m \u001b[39mself\u001b[39m\u001b[39m.\u001b[39mattention(\u001b[39mself\u001b[39m\u001b[39m.\u001b[39mnorm2(x), memory,\n\u001b[1;32m    223\u001b[0m                        mask\u001b[39m=\u001b[39mmemory_mask, kv_cache\u001b[39m=\u001b[39mkv_cache)\n\u001b[1;32m    224\u001b[0m     x \u001b[39m=\u001b[39m \u001b[39mself\u001b[39m\u001b[39m.\u001b[39mdropout(y) \u001b[39m+\u001b[39m x\n",
      "\u001b[0;31mKeyboardInterrupt\u001b[0m: "
     ]
    }
   ],
   "source": [
    "kwarg = {\n",
    "    'naive_penalty': 3,\n",
    "    'penalty_mask': penalty_mask,\n",
    "}\n",
    "experi(model, dataset, **kwarg)"
   ]
  },
  {
   "cell_type": "code",
   "execution_count": null,
   "metadata": {},
   "outputs": [],
   "source": [
    "kwarg = {\n",
    "    'naive_penalty': 3,\n",
    "    'penalty_mask': penalty_mask,\n",
    "    'penalty_decay': 0.9\n",
    "}\n",
    "experi(model, dataset, **kwarg)"
   ]
  },
  {
   "cell_type": "code",
   "execution_count": null,
   "metadata": {},
   "outputs": [],
   "source": [
    "kwarg = {\n",
    "    'naive_penalty': 2\n",
    "}\n",
    "experi(model, dataset, file, **kwarg)"
   ]
  },
  {
   "cell_type": "code",
   "execution_count": null,
   "metadata": {},
   "outputs": [],
   "source": [
    "kwarg = {\n",
    "    'naive_penalty': 2,\n",
    "    'penalty_mask': penalty_mask,\n",
    "}\n",
    "experi(model, dataset, **kwarg)"
   ]
  },
  {
   "cell_type": "code",
   "execution_count": null,
   "metadata": {},
   "outputs": [],
   "source": [
    "kwarg = {\n",
    "    'naive_penalty': 2,\n",
    "    'penalty_mask': penalty_mask,\n",
    "    'penalty_decay': 0.9\n",
    "}\n",
    "experi(model, dataset, **kwarg)"
   ]
  },
  {
   "cell_type": "code",
   "execution_count": 109,
   "metadata": {},
   "outputs": [],
   "source": [
    "import os\n",
    "import subprocess\n",
    "import json\n",
    "from wordrep.utils import BaseRepDetector\n",
    "\n",
    "\n",
    "def eval_score(directory='./corpus/', ref_path='../corpus/rep_test.fr'):\n",
    "    c = \"sacrebleu\"  # Replace with your desired Bash command\n",
    "    rep_detector = BaseRepDetector('fr')\n",
    "    for filename in os.listdir(directory):\n",
    "        if os.path.isfile(os.path.join(directory, filename)):\n",
    "            # Process the file\n",
    "            if filename.endswith('fr'):\n",
    "                path = os.path.join(directory, filename)\n",
    "                command = f'{c} {path} -i {ref_path}'\n",
    "                # Execute the command\n",
    "                process = subprocess.Popen(\n",
    "                    command, shell=True, stdout=subprocess.PIPE, stderr=subprocess.PIPE)\n",
    "                # Wait for the command to finish and capture the output\n",
    "                output, _ = process.communicate()\n",
    "                # Decode the output\n",
    "                output = output.decode('utf-8')\n",
    "                o = json.loads(output)\n",
    "                reps = rep_detector.detect_corpus(path, vis=False)\n",
    "                print(filename, f\"bleu={o['score']}, rep={len(reps)}\")"
   ]
  },
  {
   "cell_type": "code",
   "execution_count": 110,
   "metadata": {},
   "outputs": [
    {
     "name": "stderr",
     "output_type": "stream",
     "text": [
      "100%|██████████| 739/739 [00:06<00:00, 121.97it/s]\n"
     ]
    },
    {
     "name": "stdout",
     "output_type": "stream",
     "text": [
      "naive_penalty_3_no_mask.fr bleu=21.7, rep=501\n"
     ]
    },
    {
     "name": "stderr",
     "output_type": "stream",
     "text": [
      "100%|██████████| 739/739 [00:03<00:00, 209.06it/s]\n"
     ]
    },
    {
     "name": "stdout",
     "output_type": "stream",
     "text": [
      "naive_penalty_2_no_mask.fr bleu=23.5, rep=558\n"
     ]
    },
    {
     "name": "stderr",
     "output_type": "stream",
     "text": [
      "100%|██████████| 739/739 [00:03<00:00, 207.62it/s]\n"
     ]
    },
    {
     "name": "stdout",
     "output_type": "stream",
     "text": [
      "naive_penalty_2.fr bleu=26.1, rep=607\n"
     ]
    },
    {
     "name": "stderr",
     "output_type": "stream",
     "text": [
      "100%|██████████| 739/739 [00:03<00:00, 223.40it/s]"
     ]
    },
    {
     "name": "stdout",
     "output_type": "stream",
     "text": [
      "naive_penalty_3.fr bleu=25.8, rep=567\n"
     ]
    },
    {
     "name": "stderr",
     "output_type": "stream",
     "text": [
      "\n"
     ]
    }
   ],
   "source": [
    "eval_score()"
   ]
  },
  {
   "attachments": {},
   "cell_type": "markdown",
   "metadata": {},
   "source": [
    "### bleu"
   ]
  },
  {
   "cell_type": "code",
   "execution_count": null,
   "metadata": {},
   "outputs": [
    {
     "name": "stdout",
     "output_type": "stream",
     "text": [
      "{\n",
      " \"name\": \"BLEU\",\n",
      " \"score\": 26.5,\n",
      " \"signature\": \"nrefs:1|case:mixed|eff:no|tok:13a|smooth:exp|version:2.0.0\",\n",
      " \"verbose_score\": \"57.6/32.4/20.3/13.0 (BP = 1.000 ratio = 1.000 hyp_len = 28898 ref_len = 28891)\",\n",
      " \"nrefs\": \"1\",\n",
      " \"case\": \"mixed\",\n",
      " \"eff\": \"no\",\n",
      " \"tok\": \"13a\",\n",
      " \"smooth\": \"exp\",\n",
      " \"version\": \"2.0.0\"\n",
      "}\n",
      "\u001b[0m"
     ]
    }
   ],
   "source": [
    "!sacrebleu ../corpus/rep_test.en.out.avg -i ../corpus/rep_test.fr"
   ]
  },
  {
   "cell_type": "code",
   "execution_count": null,
   "metadata": {},
   "outputs": [
    {
     "name": "stdout",
     "output_type": "stream",
     "text": [
      "{\n",
      " \"name\": \"BLEU\",\n",
      " \"score\": 23.5,\n",
      " \"signature\": \"nrefs:1|case:mixed|eff:no|tok:13a|smooth:exp|version:2.0.0\",\n",
      " \"verbose_score\": \"55.0/29.2/17.5/10.8 (BP = 1.000 ratio = 1.031 hyp_len = 28898 ref_len = 28028)\",\n",
      " \"nrefs\": \"1\",\n",
      " \"case\": \"mixed\",\n",
      " \"eff\": \"no\",\n",
      " \"tok\": \"13a\",\n",
      " \"smooth\": \"exp\",\n",
      " \"version\": \"2.0.0\"\n",
      "}\n",
      "\u001b[0m"
     ]
    }
   ],
   "source": [
    "!sacrebleu ./corpus/naive_penalty_2_no_mask.fr -i ../corpus/rep_test.fr"
   ]
  },
  {
   "cell_type": "code",
   "execution_count": null,
   "metadata": {},
   "outputs": [
    {
     "name": "stdout",
     "output_type": "stream",
     "text": [
      "{\n",
      " \"name\": \"BLEU\",\n",
      " \"score\": 26.1,\n",
      " \"signature\": \"nrefs:1|case:mixed|eff:no|tok:13a|smooth:exp|version:2.0.0\",\n",
      " \"verbose_score\": \"57.2/32.0/20.0/12.8 (BP = 1.000 ratio = 1.003 hyp_len = 28898 ref_len = 28813)\",\n",
      " \"nrefs\": \"1\",\n",
      " \"case\": \"mixed\",\n",
      " \"eff\": \"no\",\n",
      " \"tok\": \"13a\",\n",
      " \"smooth\": \"exp\",\n",
      " \"version\": \"2.0.0\"\n",
      "}\n",
      "\u001b[0m"
     ]
    }
   ],
   "source": [
    "!sacrebleu ./corpus/naive_penalty_2.fr -i ../corpus/rep_test.fr"
   ]
  },
  {
   "cell_type": "code",
   "execution_count": null,
   "metadata": {},
   "outputs": [
    {
     "name": "stdout",
     "output_type": "stream",
     "text": [
      "{\n",
      " \"name\": \"BLEU\",\n",
      " \"score\": 21.7,\n",
      " \"signature\": \"nrefs:1|case:mixed|eff:no|tok:13a|smooth:exp|version:2.0.0\",\n",
      " \"verbose_score\": \"52.9/27.2/16.0/9.7 (BP = 1.000 ratio = 1.036 hyp_len = 28898 ref_len = 27883)\",\n",
      " \"nrefs\": \"1\",\n",
      " \"case\": \"mixed\",\n",
      " \"eff\": \"no\",\n",
      " \"tok\": \"13a\",\n",
      " \"smooth\": \"exp\",\n",
      " \"version\": \"2.0.0\"\n",
      "}\n",
      "\u001b[0m"
     ]
    }
   ],
   "source": [
    "!sacrebleu ./corpus/naive_penalty_3_no_mask.fr -i ../corpus/rep_test.fr"
   ]
  },
  {
   "cell_type": "code",
   "execution_count": null,
   "metadata": {},
   "outputs": [
    {
     "name": "stdout",
     "output_type": "stream",
     "text": [
      "{\n",
      " \"name\": \"BLEU\",\n",
      " \"score\": 25.8,\n",
      " \"signature\": \"nrefs:1|case:mixed|eff:no|tok:13a|smooth:exp|version:2.0.0\",\n",
      " \"verbose_score\": \"57.0/31.6/19.7/12.6 (BP = 1.000 ratio = 1.001 hyp_len = 28898 ref_len = 28867)\",\n",
      " \"nrefs\": \"1\",\n",
      " \"case\": \"mixed\",\n",
      " \"eff\": \"no\",\n",
      " \"tok\": \"13a\",\n",
      " \"smooth\": \"exp\",\n",
      " \"version\": \"2.0.0\"\n",
      "}\n",
      "\u001b[0m"
     ]
    }
   ],
   "source": [
    "!sacrebleu ./corpus/naive_penalty_3.fr -i ../corpus/rep_test.fr"
   ]
  },
  {
   "attachments": {},
   "cell_type": "markdown",
   "metadata": {},
   "source": [
    "### rep rate"
   ]
  },
  {
   "cell_type": "code",
   "execution_count": null,
   "metadata": {},
   "outputs": [],
   "source": [
    "from wordrep.utils import BaseRepDetector"
   ]
  },
  {
   "cell_type": "code",
   "execution_count": null,
   "metadata": {},
   "outputs": [],
   "source": [
    "rep_detector = BaseRepDetector('fr')"
   ]
  },
  {
   "cell_type": "code",
   "execution_count": null,
   "metadata": {},
   "outputs": [
    {
     "name": "stderr",
     "output_type": "stream",
     "text": [
      "100%|██████████| 739/739 [00:06<00:00, 120.52it/s]\n"
     ]
    },
    {
     "data": {
      "text/plain": [
       "739"
      ]
     },
     "execution_count": 30,
     "metadata": {},
     "output_type": "execute_result"
    }
   ],
   "source": [
    "reps = rep_detector.detect_corpus('../corpus/rep_test.en.out.avg', vis=False)\n",
    "len(reps)"
   ]
  },
  {
   "cell_type": "code",
   "execution_count": null,
   "metadata": {},
   "outputs": [
    {
     "name": "stderr",
     "output_type": "stream",
     "text": [
      "100%|██████████| 739/739 [00:03<00:00, 223.68it/s]\n"
     ]
    },
    {
     "data": {
      "text/plain": [
       "607"
      ]
     },
     "execution_count": 39,
     "metadata": {},
     "output_type": "execute_result"
    }
   ],
   "source": [
    "reps = rep_detector.detect_corpus('./corpus/naive_penalty_2.fr', vis=False)\n",
    "len(reps)"
   ]
  },
  {
   "cell_type": "code",
   "execution_count": null,
   "metadata": {},
   "outputs": [
    {
     "name": "stderr",
     "output_type": "stream",
     "text": [
      "100%|██████████| 739/739 [00:03<00:00, 228.90it/s]\n"
     ]
    },
    {
     "data": {
      "text/plain": [
       "558"
      ]
     },
     "execution_count": 40,
     "metadata": {},
     "output_type": "execute_result"
    }
   ],
   "source": [
    "reps = rep_detector.detect_corpus(\n",
    "    './corpus/naive_penalty_2_no_mask.fr', vis=False)\n",
    "len(reps)"
   ]
  },
  {
   "cell_type": "code",
   "execution_count": null,
   "metadata": {},
   "outputs": [
    {
     "name": "stderr",
     "output_type": "stream",
     "text": [
      "100%|██████████| 739/739 [00:03<00:00, 224.27it/s]\n"
     ]
    },
    {
     "data": {
      "text/plain": [
       "567"
      ]
     },
     "execution_count": 33,
     "metadata": {},
     "output_type": "execute_result"
    }
   ],
   "source": [
    "reps = rep_detector.detect_corpus('./corpus/naive_penalty_3.fr', vis=False)\n",
    "len(reps)"
   ]
  },
  {
   "cell_type": "code",
   "execution_count": null,
   "metadata": {},
   "outputs": [
    {
     "name": "stderr",
     "output_type": "stream",
     "text": [
      "100%|██████████| 739/739 [00:03<00:00, 211.85it/s]\n"
     ]
    },
    {
     "data": {
      "text/plain": [
       "501"
      ]
     },
     "execution_count": 34,
     "metadata": {},
     "output_type": "execute_result"
    }
   ],
   "source": [
    "reps = rep_detector.detect_corpus(\n",
    "    './corpus/naive_penalty_3_no_mask.fr', vis=False)\n",
    "len(reps)"
   ]
  },
  {
   "cell_type": "code",
   "execution_count": null,
   "metadata": {},
   "outputs": [
    {
     "data": {
      "text/plain": [
       "tensor(1.)"
      ]
     },
     "execution_count": 45,
     "metadata": {},
     "output_type": "execute_result"
    }
   ],
   "source": [
    "penalty_mask[target_vocabulary['b']]"
   ]
  },
  {
   "cell_type": "code",
   "execution_count": 46,
   "metadata": {},
   "outputs": [],
   "source": [
    "import spacy\n",
    "nlp = spacy.load('fr_core_news_lg')"
   ]
  },
  {
   "cell_type": "code",
   "execution_count": 58,
   "metadata": {},
   "outputs": [
    {
     "data": {
      "text/plain": [
       "'ADJ'"
      ]
     },
     "execution_count": 58,
     "metadata": {},
     "output_type": "execute_result"
    }
   ],
   "source": [
    "nlp('i')[0].pos_"
   ]
  }
 ],
 "metadata": {
  "kernelspec": {
   "display_name": "Python 3 (ipykernel)",
   "language": "python",
   "name": "python3"
  },
  "language_info": {
   "codemirror_mode": {
    "name": "ipython",
    "version": 3
   },
   "file_extension": ".py",
   "mimetype": "text/x-python",
   "name": "python",
   "nbconvert_exporter": "python",
   "pygments_lexer": "ipython3",
   "version": "3.9.0"
  }
 },
 "nbformat": 4,
 "nbformat_minor": 4
}
