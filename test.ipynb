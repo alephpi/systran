{
 "cells": [
  {
   "cell_type": "code",
   "execution_count": 1,
   "metadata": {},
   "outputs": [],
   "source": [
    "%load_ext autoreload\n",
    "%autoreload 2"
   ]
  },
  {
   "attachments": {},
   "cell_type": "markdown",
   "metadata": {},
   "source": [
    "## initialization"
   ]
  },
  {
   "cell_type": "code",
   "execution_count": 2,
   "metadata": {},
   "outputs": [
    {
     "name": "stdout",
     "output_type": "stream",
     "text": [
      "209129472\n"
     ]
    },
    {
     "data": {
      "text/plain": [
       "'Cette fois-ci, la baisse est due à la chute des actions au Wall Street.\\n'"
      ]
     },
     "execution_count": 2,
     "metadata": {},
     "output_type": "execute_result"
    }
   ],
   "source": [
    "from beam_search import create_dataset\n",
    "from data import encode_line, load_vocabulary\n",
    "from model import Transformer\n",
    "import torch\n",
    "import torch.nn as nn\n",
    "import argparse\n",
    "\n",
    "args = argparse.Namespace()\n",
    "args.src_vocab = '../corpus/vocab_en_fr.txt'\n",
    "args.tgt_vocab = '../corpus/vocab_en_fr.txt'\n",
    "args.ckpt = './averaged_checkpoint.pt'\n",
    "args.device = 'cpu'\n",
    "\n",
    "batch_size = 16\n",
    "beam_size = 5\n",
    "length_penalty = 1\n",
    "max_length = 256\n",
    "\n",
    "source_vocabulary, _ = load_vocabulary(args.src_vocab)\n",
    "target_vocabulary, target_vocabulary_rev = load_vocabulary(args.tgt_vocab)\n",
    "\n",
    "bos = target_vocabulary[\"<s>\"]\n",
    "eos = target_vocabulary[\"</s>\"]\n",
    "model = Transformer(\n",
    "    len(source_vocabulary),\n",
    "    len(target_vocabulary),\n",
    "    share_embeddings=True,\n",
    ")\n",
    "checkpoint = torch.load(args.ckpt)\n",
    "model.load_state_dict(checkpoint[\"model\"])\n",
    "model.to(args.device)\n",
    "model.eval()\n",
    "n = 0\n",
    "for param in model.parameters():\n",
    "    # print(param.shape)\n",
    "    n += param.numel()\n",
    "print(n)\n",
    "\n",
    "source_path = '../corpus/rep_test.en.tok'\n",
    "dataset = create_dataset(source_path, source_vocabulary, args.device)\n",
    "ref_path = '../corpus/rep_test.fr'\n",
    "with open(ref_path, 'r', encoding='utf-8') as file:\n",
    "    ref = file.readlines()\n",
    "ref[0]"
   ]
  },
  {
   "attachments": {},
   "cell_type": "markdown",
   "metadata": {},
   "source": [
    "## helper functions"
   ]
  },
  {
   "cell_type": "code",
   "execution_count": 3,
   "metadata": {},
   "outputs": [],
   "source": [
    "def view(hypotheses):\n",
    "    for hypo in hypotheses:\n",
    "        score = hypo[0].item()\n",
    "        tokens = hypo[1]\n",
    "        if tokens and tokens[-1] == eos:\n",
    "            tokens.pop(-1)\n",
    "        tokens = [target_vocabulary_rev[token_id] for token_id in tokens]\n",
    "        print(f\"{score:.4f}\", \" \".join(tokens))"
   ]
  },
  {
   "attachments": {},
   "cell_type": "markdown",
   "metadata": {},
   "source": [
    "## inference analysis"
   ]
  },
  {
   "cell_type": "code",
   "execution_count": 4,
   "metadata": {},
   "outputs": [],
   "source": [
    "from my_beam_search import beam_search"
   ]
  },
  {
   "cell_type": "code",
   "execution_count": 5,
   "metadata": {},
   "outputs": [],
   "source": [
    "batch = next(iter(dataset))"
   ]
  },
  {
   "cell_type": "code",
   "execution_count": 6,
   "metadata": {},
   "outputs": [],
   "source": [
    "from utils import *"
   ]
  },
  {
   "attachments": {},
   "cell_type": "markdown",
   "metadata": {},
   "source": [
    "## original version"
   ]
  },
  {
   "cell_type": "code",
   "execution_count": 36,
   "metadata": {},
   "outputs": [
    {
     "name": "stdout",
     "output_type": "stream",
     "text": [
      "my beam search\n",
      "None\n"
     ]
    },
    {
     "name": "stderr",
     "output_type": "stream",
     "text": [
      " 21%|██        | 53/256 [08:11<31:22,  9.27s/it]   \n"
     ]
    }
   ],
   "source": [
    "# we just take small batch_size for test\n",
    "# _ = beam_search(model, batch[None, 0], bos, eos)\n",
    "with torch.no_grad():\n",
    "    result = beam_search(\n",
    "        model, batch[0:2], bos, eos, rep_penalty=False)"
   ]
  },
  {
   "attachments": {},
   "cell_type": "markdown",
   "metadata": {},
   "source": [
    "result is a batch of data, whose element is (score, sentence)"
   ]
  },
  {
   "cell_type": "code",
   "execution_count": 9,
   "metadata": {},
   "outputs": [
    {
     "name": "stdout",
     "output_type": "stream",
     "text": [
      "-0.2325 Cette fois ￭, la chute des actions de Wall Street est responsable de la chute ￭.\n",
      "-0.2389 Cette fois ￭, la chute des actions de Wall Street en est la cause ￭.\n",
      "-0.2402 Cette fois ￭-￭ ci ￭, la chute des actions de Wall Street est responsable de la chute ￭.\n",
      "-0.2528 Cette fois ￭-￭ ci ￭, la chute des actions de Wall Street en est la cause ￭.\n",
      "-0.2846 Cette fois ￭, la chute des actions de Wall Street est responsable de la baisse ￭.\n",
      "-0.3051 Cette fois ￭-￭ ci ￭, la chute des actions de Wall Street est responsable de la baisse ￭.\n",
      "-0.3260 Cette fois ￭, la chute des actions de Wall Street est responsable de la chute ￭. cours ￭.\n"
     ]
    }
   ],
   "source": [
    "view(result[0])"
   ]
  },
  {
   "attachments": {},
   "cell_type": "markdown",
   "metadata": {},
   "source": [
    "Maybe what we want is \n",
    "\n",
    "`Cette fois ￭, la chute des actions de Wall Street est responsable de la baisse ￭.`\n",
    "\n",
    "However, it is not the second candidate"
   ]
  },
  {
   "attachments": {},
   "cell_type": "markdown",
   "metadata": {},
   "source": [
    "## naive version"
   ]
  },
  {
   "cell_type": "code",
   "execution_count": 8,
   "metadata": {},
   "outputs": [
    {
     "name": "stdout",
     "output_type": "stream",
     "text": [
      "my beam search\n",
      "5\n"
     ]
    },
    {
     "name": "stderr",
     "output_type": "stream",
     "text": [
      "  0%|          | 0/256 [02:04<?, ?it/s]\n"
     ]
    },
    {
     "ename": "AssertionError",
     "evalue": "",
     "output_type": "error",
     "traceback": [
      "\u001b[0;31m---------------------------------------------------------------------------\u001b[0m",
      "\u001b[0;31mAssertionError\u001b[0m                            Traceback (most recent call last)",
      "Cell \u001b[0;32mIn[8], line 4\u001b[0m\n\u001b[1;32m      1\u001b[0m \u001b[39m# we just take small batch_size for test\u001b[39;00m\n\u001b[1;32m      2\u001b[0m \u001b[39m# _ = beam_search(model, batch[None, 0], bos, eos)\u001b[39;00m\n\u001b[1;32m      3\u001b[0m \u001b[39mwith\u001b[39;00m torch\u001b[39m.\u001b[39mno_grad():\n\u001b[0;32m----> 4\u001b[0m     penalized_result \u001b[39m=\u001b[39m beam_search(\n\u001b[1;32m      5\u001b[0m         model, batch[\u001b[39m0\u001b[39;49m:\u001b[39m2\u001b[39;49m], bos, eos, rep_penalty\u001b[39m=\u001b[39;49m\u001b[39mTrue\u001b[39;49;00m, naive_penalty\u001b[39m=\u001b[39;49m\u001b[39m5\u001b[39;49m)\n",
      "File \u001b[0;32m~/pytorch-transformer/my_beam_search.py:204\u001b[0m, in \u001b[0;36mbeam_search\u001b[0;34m(model, src_ids, bos, eos, rep_penalty, naive_penalty, mask)\u001b[0m\n\u001b[1;32m    202\u001b[0m from_beam \u001b[39m=\u001b[39m from_beam[:, :beam_size]\u001b[39m.\u001b[39mcontiguous()\n\u001b[1;32m    203\u001b[0m penalty_matrix \u001b[39m=\u001b[39m penalty_matrix[:, :beam_size]\u001b[39m.\u001b[39mcontiguous()\n\u001b[0;32m--> 204\u001b[0m \u001b[39massert\u001b[39;00m penalty_matrix\u001b[39m.\u001b[39mequal(penalty)\n\u001b[1;32m    206\u001b[0m \u001b[39m# what's the purpose?\u001b[39;00m\n\u001b[1;32m    207\u001b[0m update_kv_cache(kv_cache, from_beam)\n",
      "\u001b[0;31mAssertionError\u001b[0m: "
     ]
    }
   ],
   "source": [
    "# we just take small batch_size for test\n",
    "# _ = beam_search(model, batch[None, 0], bos, eos)\n",
    "with torch.no_grad():\n",
    "    penalized_result = beam_search(\n",
    "        model, batch[0:2], bos, eos, rep_penalty=True, naive_penalty=5)"
   ]
  },
  {
   "cell_type": "code",
   "execution_count": 55,
   "metadata": {},
   "outputs": [],
   "source": [
    "penalty, penalty2 = penalized_result"
   ]
  },
  {
   "cell_type": "code",
   "execution_count": 56,
   "metadata": {},
   "outputs": [
    {
     "data": {
      "text/plain": [
       "False"
      ]
     },
     "execution_count": 56,
     "metadata": {},
     "output_type": "execute_result"
    }
   ],
   "source": [
    "penalty.nonzero().equal(penalty2.nonzero())"
   ]
  },
  {
   "cell_type": "code",
   "execution_count": 61,
   "metadata": {},
   "outputs": [
    {
     "data": {
      "text/plain": [
       "{(1, 5), (1, 26), (1, 2206), (3, 5), (3, 26), (3, 2206), (3, 2948)}"
      ]
     },
     "execution_count": 61,
     "metadata": {},
     "output_type": "execute_result"
    }
   ],
   "source": [
    "set(tuple(idx.tolist()) for idx in penalty.nonzero()).difference(\n",
    "    set(tuple(idx.tolist()) for idx in penalty2.nonzero()))"
   ]
  },
  {
   "cell_type": "code",
   "execution_count": 64,
   "metadata": {},
   "outputs": [
    {
     "data": {
      "text/plain": [
       "{(1, 5), (1, 26), (1, 2206), (3, 5), (3, 26), (3, 2206), (3, 2948)}"
      ]
     },
     "execution_count": 64,
     "metadata": {},
     "output_type": "execute_result"
    }
   ],
   "source": [
    "from utils import *\n",
    "diff(penalty, penalty2)"
   ]
  },
  {
   "cell_type": "code",
   "execution_count": 11,
   "metadata": {},
   "outputs": [
    {
     "name": "stdout",
     "output_type": "stream",
     "text": [
      "-0.3882 Cette fois ￭-￭ ci ￭, la chute des actions de Wall Street en est responsable ￭.\n",
      "-0.4981 Cette fois ￭-￭ ci ￭, la baisse des actions de Wall Street en est responsable ￭.\n",
      "-0.5306 Cette fois ￭-￭ ci ￭, la chute des actions de Wall Street en est la cause ￭.\n",
      "-0.7309 Cette fois ￭-￭ ci ￭, la chute des actions de Wall Street est à l ￭’￭ origine de cette baisse ￭.\n",
      "-0.7371 Cette fois ￭-￭ ci ￭, la chute des actions de Wall Street est à l ￭'￭ origine de cette baisse ￭.\n",
      "-0.8594 Cette fois ￭-￭ ci ￭, la chute des actions de Wall Street est à l ￭’￭ origine de la baisse ￭.\n",
      "-0.9045 Cette fois ￭-￭ ci ￭, la chute des actions de Wall Street est à l ￭’￭ origine de cette diminution ￭.\n",
      "-0.9075 Cette fois ￭-￭ ci ￭, la chute des actions de Wall Street est à l ￭'￭ origine de cette diminution ￭.\n"
     ]
    }
   ],
   "source": [
    "view(penalized_result[0])"
   ]
  },
  {
   "attachments": {},
   "cell_type": "markdown",
   "metadata": {},
   "source": [
    "## mask version"
   ]
  },
  {
   "cell_type": "code",
   "execution_count": 37,
   "metadata": {},
   "outputs": [
    {
     "name": "stdout",
     "output_type": "stream",
     "text": [
      "['ADP', 'AUX', 'CCONJ', 'DET', 'NUM', 'PART', 'PRON', 'SCONJ', 'PUNCT', 'SYM', 'X']\n"
     ]
    },
    {
     "name": "stderr",
     "output_type": "stream",
     "text": [
      "100%|██████████| 31996/31996 [03:20<00:00, 159.38it/s]\n"
     ]
    }
   ],
   "source": [
    "from my_beam_search import calc_mask\n",
    "\n",
    "\n",
    "mask = calc_mask(target_vocabulary)"
   ]
  },
  {
   "cell_type": "code",
   "execution_count": 41,
   "metadata": {},
   "outputs": [],
   "source": [
    "torch.save(mask, 'penalty_mask.pt')"
   ]
  },
  {
   "cell_type": "code",
   "execution_count": 12,
   "metadata": {},
   "outputs": [],
   "source": [
    "mask = torch.load('penalty_mask.pt')"
   ]
  },
  {
   "cell_type": "code",
   "execution_count": 32,
   "metadata": {},
   "outputs": [
    {
     "name": "stdout",
     "output_type": "stream",
     "text": [
      "my beam search\n",
      "5\n"
     ]
    },
    {
     "name": "stderr",
     "output_type": "stream",
     "text": [
      " 21%|██        | 54/256 [38:02<2:22:19, 42.27s/it]   \n"
     ]
    }
   ],
   "source": [
    "# we just take small batch_size for test\n",
    "# _ = beam_search(model, batch[None, 0], bos, eos)\n",
    "with torch.no_grad():\n",
    "    penalized_result = beam_search(\n",
    "        model, batch[0:2], bos, eos, rep_penalty=True, naive_penalty=5, mask=mask)"
   ]
  },
  {
   "cell_type": "code",
   "execution_count": 14,
   "metadata": {},
   "outputs": [
    {
     "name": "stdout",
     "output_type": "stream",
     "text": [
      "-0.2389 Cette fois ￭, la chute des actions de Wall Street en est la cause ￭.\n",
      "-0.2528 Cette fois ￭-￭ ci ￭, la chute des actions de Wall Street en est la cause ￭.\n",
      "-0.2846 Cette fois ￭, la chute des actions de Wall Street est responsable de la baisse ￭.\n",
      "-0.3051 Cette fois ￭-￭ ci ￭, la chute des actions de Wall Street est responsable de la baisse ￭.\n",
      "-0.3103 Cette fois ￭, la baisse des actions de Wall Street est responsable de la chute ￭.\n",
      "-0.3845 Cette fois ￭, la chute des actions de Wall Street en est la cause ￭. des cours ￭.\n",
      "-0.4720 Cette fois ￭-￭ ci ￭, la chute des actions de Wall Street en est la cause ￭. ￭.\n"
     ]
    }
   ],
   "source": [
    "view(penalized_result[0])"
   ]
  }
 ],
 "metadata": {
  "kernelspec": {
   "display_name": "Python 3 (ipykernel)",
   "language": "python",
   "name": "python3"
  },
  "language_info": {
   "codemirror_mode": {
    "name": "ipython",
    "version": 3
   },
   "file_extension": ".py",
   "mimetype": "text/x-python",
   "name": "python",
   "nbconvert_exporter": "python",
   "pygments_lexer": "ipython3",
   "version": "3.9.0"
  }
 },
 "nbformat": 4,
 "nbformat_minor": 4
}
