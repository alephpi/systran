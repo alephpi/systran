{
 "cells": [
  {
   "cell_type": "code",
   "execution_count": 1,
   "metadata": {},
   "outputs": [],
   "source": [
    "%load_ext autoreload\n",
    "%autoreload 2"
   ]
  },
  {
   "attachments": {},
   "cell_type": "markdown",
   "metadata": {},
   "source": [
    "## initialization"
   ]
  },
  {
   "cell_type": "code",
   "execution_count": 2,
   "metadata": {},
   "outputs": [
    {
     "name": "stdout",
     "output_type": "stream",
     "text": [
      "209129472\n"
     ]
    },
    {
     "data": {
      "text/plain": [
       "'Cette fois-ci, la baisse est due à la chute des actions au Wall Street.\\n'"
      ]
     },
     "execution_count": 2,
     "metadata": {},
     "output_type": "execute_result"
    }
   ],
   "source": [
    "from beam_search import create_dataset\n",
    "from data import encode_line, load_vocabulary\n",
    "from model import Transformer\n",
    "import torch\n",
    "import torch.nn as nn\n",
    "import argparse\n",
    "\n",
    "args = argparse.Namespace()\n",
    "args.src_vocab = '../corpus/vocab_en_fr.txt'\n",
    "args.tgt_vocab = '../corpus/vocab_en_fr.txt'\n",
    "args.ckpt = './averaged_checkpoint.pt'\n",
    "args.device = 'cpu'\n",
    "\n",
    "batch_size = 16\n",
    "beam_size = 5\n",
    "length_penalty = 1\n",
    "max_length = 256\n",
    "\n",
    "source_vocabulary, _ = load_vocabulary(args.src_vocab)\n",
    "target_vocabulary, target_vocabulary_rev = load_vocabulary(args.tgt_vocab)\n",
    "\n",
    "bos = target_vocabulary[\"<s>\"]\n",
    "eos = target_vocabulary[\"</s>\"]\n",
    "model = Transformer(\n",
    "    len(source_vocabulary),\n",
    "    len(target_vocabulary),\n",
    "    share_embeddings=True,\n",
    ")\n",
    "checkpoint = torch.load(args.ckpt)\n",
    "model.load_state_dict(checkpoint[\"model\"])\n",
    "model.to(args.device)\n",
    "model.eval()\n",
    "n = 0\n",
    "for param in model.parameters():\n",
    "    # print(param.shape)\n",
    "    n += param.numel()\n",
    "print(n)\n",
    "\n",
    "source_path = '../corpus/rep_test.en.tok'\n",
    "dataset = create_dataset(\n",
    "    source_path, source_vocabulary, batch_size, args.device)\n",
    "ref_path = '../corpus/rep_test.fr'\n",
    "with open(ref_path, 'r', encoding='utf-8') as file:\n",
    "    ref = file.readlines()\n",
    "ref[0]"
   ]
  },
  {
   "attachments": {},
   "cell_type": "markdown",
   "metadata": {},
   "source": [
    "## helper functions"
   ]
  },
  {
   "cell_type": "code",
   "execution_count": 33,
   "metadata": {},
   "outputs": [],
   "source": [
    "def view(hypotheses):\n",
    "    for hypo in hypotheses:\n",
    "        score = hypo[0].item()\n",
    "        tokens = hypo[1]\n",
    "        if tokens and tokens[-1] == eos:\n",
    "            tokens.pop(-1)\n",
    "        tokens = [target_vocabulary_rev[token_id] for token_id in tokens]\n",
    "        print(f\"{score:.4f}\", \" \".join(tokens))"
   ]
  },
  {
   "attachments": {},
   "cell_type": "markdown",
   "metadata": {},
   "source": [
    "## inference analysis"
   ]
  },
  {
   "cell_type": "code",
   "execution_count": 3,
   "metadata": {},
   "outputs": [],
   "source": [
    "from my_beam_search import beam_search"
   ]
  },
  {
   "cell_type": "code",
   "execution_count": 34,
   "metadata": {},
   "outputs": [],
   "source": [
    "batch = next(iter(dataset))"
   ]
  },
  {
   "cell_type": "code",
   "execution_count": 35,
   "metadata": {},
   "outputs": [
    {
     "data": {
      "text/plain": [
       "torch.Size([16, 52])"
      ]
     },
     "execution_count": 35,
     "metadata": {},
     "output_type": "execute_result"
    }
   ],
   "source": [
    "batch.shape"
   ]
  },
  {
   "cell_type": "code",
   "execution_count": 4,
   "metadata": {},
   "outputs": [],
   "source": [
    "from utils import *"
   ]
  },
  {
   "attachments": {},
   "cell_type": "markdown",
   "metadata": {},
   "source": [
    "### original version"
   ]
  },
  {
   "cell_type": "code",
   "execution_count": null,
   "metadata": {},
   "outputs": [],
   "source": [
    "# we just take small batch_size for test\n",
    "# _ = beam_search(model, batch[None, 0], bos, eos)\n",
    "with torch.no_grad():\n",
    "    result = beam_search(\n",
    "        model, batch[0:2], bos, eos, rep_penalty=False)"
   ]
  },
  {
   "cell_type": "code",
   "execution_count": 36,
   "metadata": {},
   "outputs": [],
   "source": [
    "# we just take small batch_size for test\n",
    "# _ = beam_search(model, batch[None, 0], bos, eos)\n",
    "with torch.no_grad():\n",
    "    result = beam_search(\n",
    "        model, batch, bos, eos, rep_penalty=True, naive_penalty=2, penalty_mask=penalty_mask)"
   ]
  },
  {
   "cell_type": "code",
   "execution_count": 38,
   "metadata": {},
   "outputs": [],
   "source": [
    "# we just take small batch_size for test\n",
    "# _ = beam_search(model, batch[None, 0], bos, eos)\n",
    "with torch.no_grad():\n",
    "    result2 = beam_search(\n",
    "        model, batch, bos, eos, rep_penalty=False)"
   ]
  },
  {
   "attachments": {},
   "cell_type": "markdown",
   "metadata": {},
   "source": [
    "result is a batch of data, whose element is (score, sentence)"
   ]
  },
  {
   "cell_type": "code",
   "execution_count": 39,
   "metadata": {},
   "outputs": [
    {
     "name": "stdout",
     "output_type": "stream",
     "text": [
      "-0.2172 Mais le Congrès peut bloquer la libération du montant restant ￭, pour une série de 1￭ 0￭ 0 milliards de dollars supplémentaires et plus tard pour les 3￭ 5￭ 0 milliards de dollars finaux ￭, s ￭'￭ il a l ￭'￭ impression que le programme ne remplit pas sa fonction ￭.\n",
      "-0.2183 Mais le Congrès peut bloquer la libération de la somme rest￭ ante ￭, pour une série de 1￭ 0￭ 0 milliards de dollars supplémentaires et plus tard pour les 3￭ 5￭ 0 milliards de dollars finaux ￭, s ￭'￭ il a l ￭'￭ impression que le programme ne remplit pas sa fonction ￭.\n",
      "-0.2217 Mais le Congrès peut bloquer la libération du montant restant ￭, pour une série de 1￭ 0￭ 0 milliards de dollars supplémentaires et plus tard pour les 3￭ 5￭ 0 milliards de dollars finaux ￭, s ￭'￭ il a l ￭'￭ impression que le programme n ￭'￭ remplit pas sa fonction ￭.\n",
      "-0.2230 Mais le Congrès peut bloquer la libération de la somme rest￭ ante ￭, pour une série de 1￭ 0￭ 0 milliards de dollars supplémentaires et plus tard ￭, la somme finale de 3￭ 5￭ 0 milliards de dollars ￭, s ￭'￭ il a l ￭'￭ impression que le programme ne remplit pas sa fonction ￭.\n",
      "-0.2238 Mais le Congrès peut bloquer la libération de la somme rest￭ ante ￭, pour une somme supplémentaire de 1￭ 0￭ 0 milliards de dollars et plus tard ￭, la somme finale de 3￭ 5￭ 0 milliards de dollars ￭, s ￭'￭ il a l ￭'￭ impression que le programme ne remplit pas sa fonction ￭.\n",
      "-0.2499 Mais le Congrès peut bloquer la libération de la somme rest￭ ante ￭, pour une série de 1￭ 0￭ 0 milliards de dollars supplémentaires et plus tard ￭, la somme finale de 3￭ 5￭ 0 milliards de dollars ￭, s ￭'￭ il a l ￭'￭ impression que le programme ne remplit pas ses fonctions ￭.\n",
      "-0.2524 Mais le Congrès peut bloquer la libération de la somme rest￭ ante ￭, pour une série de 1￭ 0￭ 0 milliards de dollars supplémentaires et plus tard pour les 3￭ 5￭ 0 milliards de dollars finaux ￭, s ￭'￭ il a l ￭'￭ impression que le programme ne remplit pas sa mission ￭.\n",
      "-0.2574 Mais le Congrès peut bloquer la libération de la somme rest￭ ante ￭, pour une série de 1￭ 0￭ 0 milliards de dollars supplémentaires et plus tard ￭, la somme finale de 3￭ 5￭ 0 milliards de dollars ￭, s ￭'￭ il a l ￭'￭ impression que le programme ne remplit pas sa mission ￭.\n",
      "-0.2586 Mais le Congrès peut bloquer la libération de la somme rest￭ ante ￭, pour une somme supplémentaire de 1￭ 0￭ 0 milliards de dollars et plus tard ￭, la somme finale de 3￭ 5￭ 0 milliards de dollars ￭, s ￭'￭ il a l ￭'￭ impression que le programme ne remplit pas sa mission ￭.\n"
     ]
    }
   ],
   "source": [
    "view(result2[10])"
   ]
  },
  {
   "cell_type": "code",
   "execution_count": 37,
   "metadata": {},
   "outputs": [
    {
     "name": "stdout",
     "output_type": "stream",
     "text": [
      "-0.2924 Mais le Congrès peut bloquer la libération de la somme rest￭ ante ￭, pour une série de 1￭ 0￭ 0 milliards de dollars supplémentaires et plus tard pour les 3￭ 5￭ 0 milliards de dollars finaux ￭, s ￭'￭ il a l ￭'￭ impression que le programme ne remplit pas sa fonction ￭.\n",
      "-0.2941 Mais le Congrès peut bloquer la libération du montant restant ￭, pour une série de 1￭ 0￭ 0 milliards de dollars supplémentaires et plus tard pour les 3￭ 5￭ 0 milliards de dollars finaux ￭, s ￭'￭ il a l ￭'￭ impression que le programme ne remplit pas sa fonction ￭.\n",
      "-0.2972 Mais le Congrès peut bloquer la libération du montant restant ￭, pour une série de 1￭ 0￭ 0 milliards de dollars supplémentaires et plus tard pour les 3￭ 5￭ 0 milliards de dollars finaux ￭, s ￭'￭ il a l ￭'￭ impression que le programme n ￭'￭ remplit pas sa fonction ￭.\n",
      "-0.3086 Mais le Congrès peut bloquer la libération du montant restant ￭, pour une série de 1￭ 0￭ 0 milliards de dollars supplémentaires et plus tard ￭, les 3￭ 5￭ 0 milliards de dollars finaux ￭, s ￭'￭ il a l ￭'￭ impression que le programme ne remplit pas sa fonction ￭.\n",
      "-0.3265 Mais le Congrès peut bloquer la libération de la somme rest￭ ante ￭, pour une série de 1￭ 0￭ 0 milliards de dollars supplémentaires et plus tard pour les 3￭ 5￭ 0 milliards de dollars finaux ￭, s ￭'￭ il a l ￭'￭ impression que le programme ne remplit pas sa mission ￭.\n"
     ]
    }
   ],
   "source": [
    "view(result[10])"
   ]
  },
  {
   "attachments": {},
   "cell_type": "markdown",
   "metadata": {},
   "source": [
    "Maybe what we want is \n",
    "\n",
    "`Cette fois ￭, la chute des actions de Wall Street est responsable de la baisse ￭.`\n",
    "\n",
    "However, it is not the second candidate"
   ]
  },
  {
   "attachments": {},
   "cell_type": "markdown",
   "metadata": {},
   "source": [
    "### naive version"
   ]
  },
  {
   "cell_type": "code",
   "execution_count": 12,
   "metadata": {},
   "outputs": [],
   "source": [
    "# we just take small batch_size for test\n",
    "# _ = beam_search(model, batch[None, 0], bos, eos)\n",
    "with torch.no_grad():\n",
    "    penalized_result = beam_search(\n",
    "        model, batch[0:2], bos, eos, rep_penalty=True, naive_penalty=5)"
   ]
  },
  {
   "cell_type": "code",
   "execution_count": 13,
   "metadata": {},
   "outputs": [
    {
     "name": "stdout",
     "output_type": "stream",
     "text": [
      "-0.3882 Cette fois ￭-￭ ci ￭, la chute des actions de Wall Street en est responsable ￭.\n",
      "-0.4981 Cette fois ￭-￭ ci ￭, la baisse des actions de Wall Street en est responsable ￭.\n",
      "-0.5306 Cette fois ￭-￭ ci ￭, la chute des actions de Wall Street en est la cause ￭.\n",
      "-0.7309 Cette fois ￭-￭ ci ￭, la chute des actions de Wall Street est à l ￭’￭ origine de cette baisse ￭.\n",
      "-0.7371 Cette fois ￭-￭ ci ￭, la chute des actions de Wall Street est à l ￭'￭ origine de cette baisse ￭.\n",
      "-0.7391 Cette fois ￭-￭ ci ￭, la chute des actions de Wall Street est à l ￭’￭ œuvre ￭.\n",
      "-0.8594 Cette fois ￭-￭ ci ￭, la chute des actions de Wall Street est à l ￭’￭ origine de la baisse ￭.\n",
      "-0.9045 Cette fois ￭-￭ ci ￭, la chute des actions de Wall Street est à l ￭’￭ origine de cette diminution ￭.\n",
      "-0.9075 Cette fois ￭-￭ ci ￭, la chute des actions de Wall Street est à l ￭'￭ origine de cette diminution ￭.\n"
     ]
    }
   ],
   "source": [
    "view(penalized_result[0])"
   ]
  },
  {
   "attachments": {},
   "cell_type": "markdown",
   "metadata": {},
   "source": [
    "### mask version"
   ]
  },
  {
   "cell_type": "code",
   "execution_count": 3,
   "metadata": {},
   "outputs": [],
   "source": [
    "from my_beam_search import calc_mask\n",
    "\n",
    "\n",
    "penalty_mask, leading_marker = calc_mask(target_vocabulary)"
   ]
  },
  {
   "cell_type": "code",
   "execution_count": 6,
   "metadata": {},
   "outputs": [
    {
     "ename": "KeyError",
     "evalue": "'pourcent'",
     "output_type": "error",
     "traceback": [
      "\u001b[0;31m---------------------------------------------------------------------------\u001b[0m",
      "\u001b[0;31mKeyError\u001b[0m                                  Traceback (most recent call last)",
      "Cell \u001b[0;32mIn[6], line 1\u001b[0m\n\u001b[0;32m----> 1\u001b[0m idx \u001b[39m=\u001b[39m target_vocabulary[\u001b[39m'\u001b[39;49m\u001b[39mpourcent\u001b[39;49m\u001b[39m'\u001b[39;49m]\n\u001b[1;32m      2\u001b[0m penalty_mask[idx]\n",
      "\u001b[0;31mKeyError\u001b[0m: 'pourcent'"
     ]
    }
   ],
   "source": [
    "idx = target_vocabulary['pourcent']\n",
    "penalty_mask[idx]"
   ]
  },
  {
   "cell_type": "code",
   "execution_count": 27,
   "metadata": {},
   "outputs": [],
   "source": [
    "mask_idx = penalty_mask.nonzero().squeeze().tolist()"
   ]
  },
  {
   "cell_type": "code",
   "execution_count": 31,
   "metadata": {},
   "outputs": [],
   "source": [
    "escape_terms = [tgt_vocab_rev[i] for i in range(32000) if i not in mask_idx]"
   ]
  },
  {
   "cell_type": "code",
   "execution_count": 32,
   "metadata": {},
   "outputs": [
    {
     "data": {
      "text/plain": [
       "True"
      ]
     },
     "execution_count": 32,
     "metadata": {},
     "output_type": "execute_result"
    }
   ],
   "source": [
    "'du' in escape_terms"
   ]
  },
  {
   "cell_type": "code",
   "execution_count": 64,
   "metadata": {},
   "outputs": [
    {
     "data": {
      "text/plain": [
       "tensor([0., 0., 0.,  ..., 1., 0., 0.])"
      ]
     },
     "execution_count": 64,
     "metadata": {},
     "output_type": "execute_result"
    }
   ],
   "source": [
    "leading_marker"
   ]
  },
  {
   "cell_type": "code",
   "execution_count": 15,
   "metadata": {},
   "outputs": [],
   "source": [
    "torch.save(penalty_mask, 'penalty_mask.pt')"
   ]
  },
  {
   "cell_type": "code",
   "execution_count": 1,
   "metadata": {},
   "outputs": [],
   "source": [
    "penalty_mask = torch.load('penalty_mask.pt')"
   ]
  },
  {
   "cell_type": "code",
   "execution_count": 17,
   "metadata": {},
   "outputs": [],
   "source": [
    "# we just take small batch_size for test\n",
    "# _ = beam_search(model, batch[None, 0], bos, eos)\n",
    "with torch.no_grad():\n",
    "    penalized_result = beam_search(\n",
    "        model, batch[0:2], bos, eos, rep_penalty=True, naive_penalty=2, penalty_mask=penalty_mask)"
   ]
  },
  {
   "cell_type": "code",
   "execution_count": 18,
   "metadata": {},
   "outputs": [
    {
     "name": "stdout",
     "output_type": "stream",
     "text": [
      "-0.2389 Cette fois ￭, la chute des actions de Wall Street en est la cause ￭.\n",
      "-0.2528 Cette fois ￭-￭ ci ￭, la chute des actions de Wall Street en est la cause ￭.\n",
      "-0.2846 Cette fois ￭, la chute des actions de Wall Street est responsable de la baisse ￭.\n",
      "-0.3051 Cette fois ￭-￭ ci ￭, la chute des actions de Wall Street est responsable de la baisse ￭.\n",
      "-0.3103 Cette fois ￭, la baisse des actions de Wall Street est responsable de la chute ￭.\n",
      "-0.3454 Cette fois ￭-￭ ci ￭, la chute des actions de Wall Street est responsable de la chute ￭.\n",
      "-0.3845 Cette fois ￭, la chute des actions de Wall Street est responsable de la baisse des cours ￭.\n"
     ]
    }
   ],
   "source": [
    "view(penalized_result[0])"
   ]
  },
  {
   "attachments": {},
   "cell_type": "markdown",
   "metadata": {},
   "source": [
    "## evaluation"
   ]
  },
  {
   "cell_type": "code",
   "execution_count": 6,
   "metadata": {},
   "outputs": [],
   "source": [
    "def experi(model, dataset, **kwarg):\n",
    "    isMask = 'penalty_mask' in kwarg\n",
    "    filename = '_'.join(\n",
    "        [f'{key}_{value}' for key, value in kwarg.items() if key != 'penalty_mask'])+('_mask' if isMask else '')+'.fr.tok'\n",
    "    print(filename)\n",
    "    with open('./corpus/'+filename, 'w', encoding='utf-8') as file:\n",
    "        with torch.no_grad():\n",
    "            for batch in dataset:\n",
    "                result = beam_search(model, batch, bos, eos, **kwarg)\n",
    "                # result = (batch_size, ), hypo = (score, sent)\n",
    "                for hypotheses in result:\n",
    "                    tokens = hypotheses[0][1]\n",
    "                    if tokens and tokens[-1] == eos:\n",
    "                        tokens.pop(-1)\n",
    "                    tokens = [target_vocabulary_rev[token_id]\n",
    "                              for token_id in tokens]\n",
    "                    print(\" \".join(tokens), file=file, flush=True)"
   ]
  },
  {
   "cell_type": "code",
   "execution_count": 7,
   "metadata": {},
   "outputs": [
    {
     "name": "stdout",
     "output_type": "stream",
     "text": [
      "naive_penalty_3.fr.tok\n"
     ]
    }
   ],
   "source": [
    "kwarg = {\n",
    "    'naive_penalty': 3\n",
    "}\n",
    "experi(model, dataset, **kwarg)"
   ]
  },
  {
   "cell_type": "code",
   "execution_count": 10,
   "metadata": {},
   "outputs": [
    {
     "name": "stdout",
     "output_type": "stream",
     "text": [
      "naive_penalty_3_mask.fr.tok\n"
     ]
    }
   ],
   "source": [
    "kwarg = {\n",
    "    'naive_penalty': 3,\n",
    "    'penalty_mask': penalty_mask,\n",
    "}\n",
    "experi(model, dataset, **kwarg)"
   ]
  },
  {
   "cell_type": "code",
   "execution_count": 11,
   "metadata": {},
   "outputs": [
    {
     "name": "stdout",
     "output_type": "stream",
     "text": [
      "naive_penalty_3_penalty_decay_0.9_mask.fr.tok\n"
     ]
    }
   ],
   "source": [
    "kwarg = {\n",
    "    'naive_penalty': 3,\n",
    "    'penalty_mask': penalty_mask,\n",
    "    'penalty_decay': 0.9\n",
    "}\n",
    "experi(model, dataset, **kwarg)"
   ]
  },
  {
   "cell_type": "code",
   "execution_count": 13,
   "metadata": {},
   "outputs": [
    {
     "name": "stdout",
     "output_type": "stream",
     "text": [
      "naive_penalty_2.fr.tok\n"
     ]
    }
   ],
   "source": [
    "kwarg = {\n",
    "    'naive_penalty': 2\n",
    "}\n",
    "experi(model, dataset, **kwarg)"
   ]
  },
  {
   "cell_type": "code",
   "execution_count": 15,
   "metadata": {},
   "outputs": [
    {
     "name": "stdout",
     "output_type": "stream",
     "text": [
      "naive_penalty_2_mask.fr.tok\n"
     ]
    }
   ],
   "source": [
    "kwarg = {\n",
    "    'naive_penalty': 2,\n",
    "    'penalty_mask': penalty_mask,\n",
    "}\n",
    "experi(model, dataset, **kwarg)"
   ]
  },
  {
   "cell_type": "code",
   "execution_count": 14,
   "metadata": {},
   "outputs": [
    {
     "name": "stdout",
     "output_type": "stream",
     "text": [
      "naive_penalty_2_penalty_decay_0.9_mask.fr.tok\n"
     ]
    }
   ],
   "source": [
    "kwarg = {\n",
    "    'naive_penalty': 2,\n",
    "    'penalty_mask': penalty_mask,\n",
    "    'penalty_decay': 0.9\n",
    "}\n",
    "experi(model, dataset, **kwarg)"
   ]
  },
  {
   "cell_type": "code",
   "execution_count": 16,
   "metadata": {},
   "outputs": [
    {
     "name": "stdout",
     "output_type": "stream",
     "text": [
      "rep_penalty_False.fr.tok\n"
     ]
    }
   ],
   "source": [
    "kwarg = {\n",
    "    'rep_penalty': False\n",
    "}\n",
    "experi(model, dataset, **kwarg)"
   ]
  },
  {
   "cell_type": "code",
   "execution_count": 44,
   "metadata": {},
   "outputs": [
    {
     "name": "stdout",
     "output_type": "stream",
     "text": [
      "naive_penalty_1000000_mask.fr.tok\n"
     ]
    }
   ],
   "source": [
    "kwarg = {\n",
    "    'naive_penalty': 1000000,\n",
    "    'penalty_mask': penalty_mask,\n",
    "}\n",
    "experi(model, dataset, **kwarg)"
   ]
  },
  {
   "cell_type": "code",
   "execution_count": 7,
   "metadata": {},
   "outputs": [],
   "source": [
    "import os\n",
    "import subprocess\n",
    "import json\n",
    "from wordrep.utils import BaseRepDetector\n",
    "\n",
    "\n",
    "def eval_score(directory='./corpus/', ref_path='../corpus/rep_test.fr'):\n",
    "    c = \"sacrebleu\"  # Replace with your desired Bash command\n",
    "    rep_detector = BaseRepDetector('fr')\n",
    "    for filename in os.listdir(directory):\n",
    "        if os.path.isfile(os.path.join(directory, filename)):\n",
    "            # Process the file\n",
    "            if filename.endswith('fr'):\n",
    "                path = os.path.join(directory, filename)\n",
    "                command = f'{c} {path} -i {ref_path}'\n",
    "                # Execute the command\n",
    "                process = subprocess.Popen(\n",
    "                    command, shell=True, stdout=subprocess.PIPE, stderr=subprocess.PIPE)\n",
    "                # Wait for the command to finish and capture the output\n",
    "                output, _ = process.communicate()\n",
    "                # Decode the output\n",
    "                output = output.decode('utf-8')\n",
    "                o = json.loads(output)\n",
    "                reps = rep_detector.detect_corpus(path, vis=False)\n",
    "                print(filename, f\"bleu={o['score']}, rep={len(reps)}\")"
   ]
  },
  {
   "cell_type": "code",
   "execution_count": 8,
   "metadata": {},
   "outputs": [
    {
     "name": "stdout",
     "output_type": "stream",
     "text": [
      "naive_penalty_2_mask.fr bleu=26.2, rep=444\n",
      "naive_penalty_10_mask.fr bleu=24.6, rep=67\n",
      "naive_penalty_100_mask.fr bleu=24.6, rep=66\n",
      "naive_penalty_3_mask.fr bleu=25.8, rep=381\n",
      "naive_penalty_3_penalty_decay_0.9_mask.fr bleu=26.4, rep=522\n",
      "naive_penalty_2_penalty_decay_0.9_mask.fr bleu=26.4, rep=541\n",
      "naive_penalty_2.fr bleu=23.5, rep=390\n",
      "naive_penalty_3.fr bleu=21.7, rep=305\n"
     ]
    }
   ],
   "source": [
    "eval_score()"
   ]
  }
 ],
 "metadata": {
  "kernelspec": {
   "display_name": "Python 3 (ipykernel)",
   "language": "python",
   "name": "python3"
  },
  "language_info": {
   "codemirror_mode": {
    "name": "ipython",
    "version": 3
   },
   "file_extension": ".py",
   "mimetype": "text/x-python",
   "name": "python",
   "nbconvert_exporter": "python",
   "pygments_lexer": "ipython3",
   "version": "3.9.0"
  }
 },
 "nbformat": 4,
 "nbformat_minor": 4
}
