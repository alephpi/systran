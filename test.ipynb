{
 "cells": [
  {
   "cell_type": "code",
   "execution_count": 1,
   "metadata": {},
   "outputs": [],
   "source": [
    "%load_ext autoreload\n",
    "%autoreload 2"
   ]
  },
  {
   "attachments": {},
   "cell_type": "markdown",
   "metadata": {},
   "source": [
    "## initialization"
   ]
  },
  {
   "cell_type": "code",
   "execution_count": 2,
   "metadata": {},
   "outputs": [
    {
     "name": "stdout",
     "output_type": "stream",
     "text": [
      "209129472\n"
     ]
    },
    {
     "data": {
      "text/plain": [
       "'Cette fois-ci, la baisse est due à la chute des actions au Wall Street.\\n'"
      ]
     },
     "execution_count": 2,
     "metadata": {},
     "output_type": "execute_result"
    }
   ],
   "source": [
    "from beam_search import create_dataset\n",
    "from data import encode_line, load_vocabulary\n",
    "from model import Transformer\n",
    "import torch\n",
    "import torch.nn as nn\n",
    "import argparse\n",
    "\n",
    "args = argparse.Namespace()\n",
    "args.src_vocab = '../corpus/vocab_en_fr.txt'\n",
    "args.tgt_vocab = '../corpus/vocab_en_fr.txt'\n",
    "args.ckpt = './averaged_checkpoint.pt'\n",
    "args.device = 'cpu'\n",
    "\n",
    "batch_size = 16\n",
    "beam_size = 5\n",
    "length_penalty = 1\n",
    "max_length = 256\n",
    "\n",
    "source_vocabulary, _ = load_vocabulary(args.src_vocab)\n",
    "target_vocabulary, target_vocabulary_rev = load_vocabulary(args.tgt_vocab)\n",
    "\n",
    "bos = target_vocabulary[\"<s>\"]\n",
    "eos = target_vocabulary[\"</s>\"]\n",
    "model = Transformer(\n",
    "    len(source_vocabulary),\n",
    "    len(target_vocabulary),\n",
    "    share_embeddings=True,\n",
    ")\n",
    "checkpoint = torch.load(args.ckpt)\n",
    "model.load_state_dict(checkpoint[\"model\"])\n",
    "model.to(args.device)\n",
    "model.eval()\n",
    "n = 0\n",
    "for param in model.parameters():\n",
    "    # print(param.shape)\n",
    "    n += param.numel()\n",
    "print(n)\n",
    "\n",
    "source_path = '../corpus/rep_test.en.tok'\n",
    "dataset = create_dataset(source_path, source_vocabulary, args.device)\n",
    "ref_path = '../corpus/rep_test.fr'\n",
    "with open(ref_path, 'r', encoding='utf-8') as file:\n",
    "    ref = file.readlines()\n",
    "ref[0]"
   ]
  },
  {
   "attachments": {},
   "cell_type": "markdown",
   "metadata": {},
   "source": [
    "## helper functions"
   ]
  },
  {
   "cell_type": "code",
   "execution_count": 3,
   "metadata": {},
   "outputs": [],
   "source": [
    "def view(hypotheses):\n",
    "    for hypo in hypotheses:\n",
    "        tokens = hypo[1]\n",
    "        if tokens and tokens[-1] == eos:\n",
    "            tokens.pop(-1)\n",
    "        tokens = [target_vocabulary_rev[token_id] for token_id in tokens]\n",
    "        print(\" \".join(tokens))"
   ]
  },
  {
   "attachments": {},
   "cell_type": "markdown",
   "metadata": {},
   "source": [
    "## inference analysis"
   ]
  },
  {
   "cell_type": "code",
   "execution_count": 4,
   "metadata": {},
   "outputs": [],
   "source": [
    "from my_beam_search import beam_search"
   ]
  },
  {
   "cell_type": "code",
   "execution_count": 5,
   "metadata": {},
   "outputs": [],
   "source": [
    "batch = next(iter(dataset))"
   ]
  },
  {
   "cell_type": "code",
   "execution_count": 6,
   "metadata": {},
   "outputs": [],
   "source": [
    "from utils import *"
   ]
  },
  {
   "cell_type": "code",
   "execution_count": null,
   "metadata": {},
   "outputs": [],
   "source": [
    "# we just take small batch_size for test\n",
    "# _ = beam_search(model, batch[None, 0], bos, eos)\n",
    "with torch.no_grad():\n",
    "    _ = beam_search(model, batch[0:2], bos, eos)"
   ]
  },
  {
   "attachments": {},
   "cell_type": "markdown",
   "metadata": {},
   "source": [
    "result is a batch of data, whose element is (score, sentence)"
   ]
  },
  {
   "cell_type": "code",
   "execution_count": 18,
   "metadata": {},
   "outputs": [
    {
     "name": "stdout",
     "output_type": "stream",
     "text": [
      "Cette fois ￭, la chute des actions de Wall Street est responsable de la chute ￭.\n",
      "Cette fois ￭, la chute des actions de Wall Street en est la cause ￭.\n",
      "Cette fois ￭-￭ ci ￭, la chute des actions de Wall Street est responsable de la chute ￭.\n",
      "Cette fois ￭-￭ ci ￭, la chute des actions de Wall Street en est la cause ￭.\n",
      "Cette fois ￭, la chute des actions de Wall Street est responsable de la baisse ￭.\n",
      "Cette fois ￭-￭ ci ￭, la chute des actions de Wall Street est responsable de la baisse ￭.\n",
      "Cette fois ￭, la chute des actions de Wall Street est responsable de la chute ￭. cours ￭.\n"
     ]
    }
   ],
   "source": [
    "view(result[0])"
   ]
  },
  {
   "attachments": {},
   "cell_type": "markdown",
   "metadata": {},
   "source": [
    "Maybe what we want is \n",
    "\n",
    "`Cette fois ￭, la chute des actions de Wall Street est responsable de la baisse ￭.`\n",
    "\n",
    "However, it is not the second candidate"
   ]
  },
  {
   "cell_type": "code",
   "execution_count": null,
   "metadata": {},
   "outputs": [],
   "source": []
  }
 ],
 "metadata": {
  "kernelspec": {
   "display_name": "Python 3",
   "language": "python",
   "name": "python3"
  },
  "language_info": {
   "codemirror_mode": {
    "name": "ipython",
    "version": 3
   },
   "file_extension": ".py",
   "mimetype": "text/x-python",
   "name": "python",
   "nbconvert_exporter": "python",
   "pygments_lexer": "ipython3",
   "version": "3.9.0"
  },
  "orig_nbformat": 4
 },
 "nbformat": 4,
 "nbformat_minor": 2
}
