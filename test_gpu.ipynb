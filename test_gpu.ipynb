{
 "cells": [
  {
   "cell_type": "code",
   "execution_count": 4,
   "metadata": {},
   "outputs": [
    {
     "name": "stdout",
     "output_type": "stream",
     "text": [
      "The autoreload extension is already loaded. To reload it, use:\n",
      "  %reload_ext autoreload\n"
     ]
    }
   ],
   "source": [
    "%load_ext autoreload\n",
    "%autoreload 2"
   ]
  },
  {
   "attachments": {},
   "cell_type": "markdown",
   "metadata": {},
   "source": [
    "## initialization"
   ]
  },
  {
   "cell_type": "code",
   "execution_count": 5,
   "metadata": {},
   "outputs": [
    {
     "name": "stdout",
     "output_type": "stream",
     "text": [
      "209129472\n"
     ]
    },
    {
     "data": {
      "text/plain": [
       "'Cette fois-ci, la baisse est due à la chute des actions au Wall Street.\\n'"
      ]
     },
     "execution_count": 5,
     "metadata": {},
     "output_type": "execute_result"
    }
   ],
   "source": [
    "from beam_search import create_dataset\n",
    "from data import encode_line, load_vocabulary\n",
    "from model import Transformer\n",
    "import torch\n",
    "import torch.nn as nn\n",
    "import argparse\n",
    "\n",
    "args = argparse.Namespace()\n",
    "args.src_vocab = '../corpus/vocab_en_fr.txt'\n",
    "args.tgt_vocab = '../corpus/vocab_en_fr.txt'\n",
    "args.ckpt = './averaged_checkpoint.pt'\n",
    "args.device = torch.device('cuda') if torch.cuda.is_available() else 'cpu'\n",
    "\n",
    "batch_size = 16\n",
    "beam_size = 5\n",
    "length_penalty = 1\n",
    "max_length = 256\n",
    "\n",
    "source_vocabulary, _ = load_vocabulary(args.src_vocab)\n",
    "target_vocabulary, target_vocabulary_rev = load_vocabulary(args.tgt_vocab)\n",
    "\n",
    "bos = target_vocabulary[\"<s>\"]\n",
    "eos = target_vocabulary[\"</s>\"]\n",
    "model = Transformer(\n",
    "    len(source_vocabulary),\n",
    "    len(target_vocabulary),\n",
    "    share_embeddings=True,\n",
    ")\n",
    "checkpoint = torch.load(args.ckpt)\n",
    "model.load_state_dict(checkpoint[\"model\"])\n",
    "model.to(args.device)\n",
    "model.eval()\n",
    "n = 0\n",
    "for param in model.parameters():\n",
    "    # print(param.shape)\n",
    "    n += param.numel()\n",
    "print(n)\n",
    "\n",
    "source_path = '../corpus/rep_test.en.tok'\n",
    "dataset = create_dataset(source_path, source_vocabulary, args.device)\n",
    "ref_path = '../corpus/rep_test.fr'\n",
    "with open(ref_path, 'r', encoding='utf-8') as file:\n",
    "    ref = file.readlines()\n",
    "ref[0]"
   ]
  },
  {
   "attachments": {},
   "cell_type": "markdown",
   "metadata": {},
   "source": [
    "## helper functions"
   ]
  },
  {
   "cell_type": "code",
   "execution_count": 6,
   "metadata": {},
   "outputs": [],
   "source": [
    "def view(hypotheses):\n",
    "    for hypo in hypotheses:\n",
    "        score = hypo[0].item()\n",
    "        tokens = hypo[1]\n",
    "        if tokens and tokens[-1] == eos:\n",
    "            tokens.pop(-1)\n",
    "        tokens = [target_vocabulary_rev[token_id] for token_id in tokens]\n",
    "        print(f\"{score:.4f}\", \" \".join(tokens))"
   ]
  },
  {
   "attachments": {},
   "cell_type": "markdown",
   "metadata": {},
   "source": [
    "## inference analysis"
   ]
  },
  {
   "cell_type": "code",
   "execution_count": 7,
   "metadata": {},
   "outputs": [],
   "source": [
    "from my_beam_search import beam_search"
   ]
  },
  {
   "cell_type": "code",
   "execution_count": 8,
   "metadata": {},
   "outputs": [],
   "source": [
    "batch = next(iter(dataset))"
   ]
  },
  {
   "cell_type": "code",
   "execution_count": 9,
   "metadata": {},
   "outputs": [],
   "source": [
    "from utils import *"
   ]
  },
  {
   "attachments": {},
   "cell_type": "markdown",
   "metadata": {},
   "source": [
    "### original version"
   ]
  },
  {
   "cell_type": "code",
   "execution_count": 11,
   "metadata": {},
   "outputs": [
    {
     "name": "stdout",
     "output_type": "stream",
     "text": [
      "my beam search\n",
      "None\n"
     ]
    },
    {
     "name": "stderr",
     "output_type": "stream",
     "text": [
      " 21%|██        | 53/256 [00:01<00:07, 26.78it/s]\n"
     ]
    }
   ],
   "source": [
    "# we just take small batch_size for test\n",
    "# _ = beam_search(model, batch[None, 0], bos, eos)\n",
    "with torch.no_grad():\n",
    "    result = beam_search(\n",
    "        model, batch[0:2], bos, eos, rep_penalty=False)"
   ]
  },
  {
   "attachments": {},
   "cell_type": "markdown",
   "metadata": {},
   "source": [
    "result is a batch of data, whose element is (score, sentence)"
   ]
  },
  {
   "cell_type": "code",
   "execution_count": 12,
   "metadata": {},
   "outputs": [
    {
     "name": "stdout",
     "output_type": "stream",
     "text": [
      "-0.2325 Cette fois ￭, la chute des actions de Wall Street est responsable de la chute ￭.\n",
      "-0.2389 Cette fois ￭, la chute des actions de Wall Street en est la cause ￭.\n",
      "-0.2402 Cette fois ￭-￭ ci ￭, la chute des actions de Wall Street est responsable de la chute ￭.\n",
      "-0.2528 Cette fois ￭-￭ ci ￭, la chute des actions de Wall Street en est la cause ￭.\n",
      "-0.2846 Cette fois ￭, la chute des actions de Wall Street est responsable de la baisse ￭.\n",
      "-0.3051 Cette fois ￭-￭ ci ￭, la chute des actions de Wall Street est responsable de la baisse ￭.\n",
      "-0.3260 Cette fois ￭, la chute des actions de Wall Street est responsable de la chute des cours ￭.\n"
     ]
    }
   ],
   "source": [
    "view(result[0])"
   ]
  },
  {
   "attachments": {},
   "cell_type": "markdown",
   "metadata": {},
   "source": [
    "Maybe what we want is \n",
    "\n",
    "`Cette fois ￭, la chute des actions de Wall Street est responsable de la baisse ￭.`\n",
    "\n",
    "However, it is not the second candidate"
   ]
  },
  {
   "attachments": {},
   "cell_type": "markdown",
   "metadata": {},
   "source": [
    "### naive version"
   ]
  },
  {
   "cell_type": "code",
   "execution_count": 20,
   "metadata": {},
   "outputs": [
    {
     "name": "stdout",
     "output_type": "stream",
     "text": [
      "my beam search\n",
      "5\n"
     ]
    },
    {
     "name": "stderr",
     "output_type": "stream",
     "text": [
      " 20%|█▉        | 50/256 [00:01<00:07, 26.99it/s]\n"
     ]
    }
   ],
   "source": [
    "# we just take small batch_size for test\n",
    "# _ = beam_search(model, batch[None, 0], bos, eos)\n",
    "with torch.no_grad():\n",
    "    penalized_result = beam_search(\n",
    "        model, batch[0:2], bos, eos, rep_penalty=True, naive_penalty=5)"
   ]
  },
  {
   "cell_type": "code",
   "execution_count": 14,
   "metadata": {},
   "outputs": [
    {
     "name": "stdout",
     "output_type": "stream",
     "text": [
      "-0.3882 Cette fois ￭-￭ ci ￭, la chute des actions de Wall Street en est responsable ￭.\n",
      "-0.4981 Cette fois ￭-￭ ci ￭, la baisse des actions de Wall Street en est responsable ￭.\n",
      "-0.5306 Cette fois ￭-￭ ci ￭, la chute des actions de Wall Street en est la cause ￭.\n",
      "-0.7309 Cette fois ￭-￭ ci ￭, la chute des actions de Wall Street est à l ￭’￭ origine de cette baisse ￭.\n",
      "-0.7371 Cette fois ￭-￭ ci ￭, la chute des actions de Wall Street est à l ￭'￭ origine de cette baisse ￭.\n",
      "-0.7391 Cette fois ￭-￭ ci ￭, la chute des actions de Wall Street est à l ￭’￭ œuvre ￭.\n",
      "-0.8594 Cette fois ￭-￭ ci ￭, la chute des actions de Wall Street est à l ￭’￭ origine de la baisse ￭.\n",
      "-0.9045 Cette fois ￭-￭ ci ￭, la chute des actions de Wall Street est à l ￭’￭ origine de cette diminution ￭.\n",
      "-0.9075 Cette fois ￭-￭ ci ￭, la chute des actions de Wall Street est à l ￭'￭ origine de cette diminution ￭.\n"
     ]
    }
   ],
   "source": [
    "view(penalized_result[0])"
   ]
  },
  {
   "attachments": {},
   "cell_type": "markdown",
   "metadata": {},
   "source": [
    "### mask version"
   ]
  },
  {
   "cell_type": "code",
   "execution_count": null,
   "metadata": {},
   "outputs": [
    {
     "name": "stdout",
     "output_type": "stream",
     "text": [
      "['ADP', 'AUX', 'CCONJ', 'DET', 'NUM', 'PART', 'PRON', 'SCONJ', 'PUNCT', 'SYM', 'X']\n"
     ]
    },
    {
     "name": "stderr",
     "output_type": "stream",
     "text": [
      "100%|██████████| 31996/31996 [03:20<00:00, 159.38it/s]\n"
     ]
    }
   ],
   "source": [
    "from my_beam_search import calc_mask\n",
    "\n",
    "\n",
    "mask = calc_mask(target_vocabulary)"
   ]
  },
  {
   "cell_type": "code",
   "execution_count": 41,
   "metadata": {},
   "outputs": [],
   "source": [
    "torch.save(mask, 'penalty_mask.pt')"
   ]
  },
  {
   "cell_type": "code",
   "execution_count": 15,
   "metadata": {},
   "outputs": [],
   "source": [
    "mask = torch.load('penalty_mask.pt')"
   ]
  },
  {
   "cell_type": "code",
   "execution_count": 18,
   "metadata": {},
   "outputs": [
    {
     "name": "stdout",
     "output_type": "stream",
     "text": [
      "my beam search\n",
      "2\n"
     ]
    },
    {
     "name": "stderr",
     "output_type": "stream",
     "text": [
      " 21%|██        | 53/256 [00:01<00:07, 26.81it/s]\n"
     ]
    }
   ],
   "source": [
    "# we just take small batch_size for test\n",
    "# _ = beam_search(model, batch[None, 0], bos, eos)\n",
    "with torch.no_grad():\n",
    "    penalized_result = beam_search(\n",
    "        model, batch[0:2], bos, eos, rep_penalty=True, naive_penalty=2, mask=mask)"
   ]
  },
  {
   "cell_type": "code",
   "execution_count": 19,
   "metadata": {},
   "outputs": [
    {
     "name": "stdout",
     "output_type": "stream",
     "text": [
      "-0.2389 Cette fois ￭, la chute des actions de Wall Street en est la cause ￭.\n",
      "-0.2528 Cette fois ￭-￭ ci ￭, la chute des actions de Wall Street en est la cause ￭.\n",
      "-0.2846 Cette fois ￭, la chute des actions de Wall Street est responsable de la baisse ￭.\n",
      "-0.3051 Cette fois ￭-￭ ci ￭, la chute des actions de Wall Street est responsable de la baisse ￭.\n",
      "-0.3103 Cette fois ￭, la baisse des actions de Wall Street est responsable de la chute ￭.\n",
      "-0.3454 Cette fois ￭-￭ ci ￭, la chute des actions de Wall Street est responsable de la chute ￭.\n",
      "-0.3845 Cette fois ￭, la chute des actions de Wall Street est responsable de la baisse des cours ￭.\n"
     ]
    }
   ],
   "source": [
    "view(penalized_result[0])"
   ]
  },
  {
   "attachments": {},
   "cell_type": "markdown",
   "metadata": {},
   "source": [
    "## Bleu score and rep rate"
   ]
  },
  {
   "cell_type": "code",
   "execution_count": 41,
   "metadata": {},
   "outputs": [],
   "source": [
    "def experi(model, dataset, file, **kwarg):\n",
    "    with torch.no_grad():\n",
    "        for batch in dataset:\n",
    "            result = beam_search(model, batch, bos, eos, **kwarg)\n",
    "            # result = (batch_size, ), hypo = (score, sent)\n",
    "            for hypotheses in result:\n",
    "                tokens = hypotheses[0][1]\n",
    "                if tokens and tokens[-1] == eos:\n",
    "                    tokens.pop(-1)\n",
    "                tokens = [target_vocabulary_rev[token_id]\n",
    "                          for token_id in tokens]\n",
    "                print(\" \".join(tokens), file=file, flush=True)"
   ]
  },
  {
   "cell_type": "code",
   "execution_count": 42,
   "metadata": {},
   "outputs": [],
   "source": [
    "kwarg = {\n",
    "    'rep_penalty': True,\n",
    "    'naive_penalty': 2\n",
    "}\n",
    "filename = '_'.join(\n",
    "    [f'{key}_{value}' for key, value in kwarg.items()]) + '.fr.tok'\n",
    "with open('./corpus/'+filename, 'w', encoding='utf-8') as file:\n",
    "    experi(model, dataset, file, mask=mask, **kwarg)"
   ]
  },
  {
   "cell_type": "code",
   "execution_count": 43,
   "metadata": {},
   "outputs": [],
   "source": [
    "kwarg = {\n",
    "    'rep_penalty': True,\n",
    "    'naive_penalty': 2\n",
    "}\n",
    "filename = '_'.join(\n",
    "    [f'{key}_{value}' for key, value in kwarg.items()]) + '_no_mask.fr.tok'\n",
    "with open('./corpus/'+filename, 'w', encoding='utf-8') as file:\n",
    "    experi(model, dataset, file, **kwarg)"
   ]
  }
 ],
 "metadata": {
  "kernelspec": {
   "display_name": "Python 3 (ipykernel)",
   "language": "python",
   "name": "python3"
  },
  "language_info": {
   "codemirror_mode": {
    "name": "ipython",
    "version": 3
   },
   "file_extension": ".py",
   "mimetype": "text/x-python",
   "name": "python",
   "nbconvert_exporter": "python",
   "pygments_lexer": "ipython3",
   "version": "3.9.0"
  }
 },
 "nbformat": 4,
 "nbformat_minor": 4
}
