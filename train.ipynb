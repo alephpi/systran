{
 "cells": [
  {
   "cell_type": "code",
   "execution_count": 1,
   "metadata": {},
   "outputs": [],
   "source": [
    "%load_ext autoreload\n",
    "%autoreload 2"
   ]
  },
  {
   "attachments": {},
   "cell_type": "markdown",
   "metadata": {},
   "source": [
    "## initialization"
   ]
  },
  {
   "cell_type": "code",
   "execution_count": 59,
   "metadata": {},
   "outputs": [
    {
     "name": "stdout",
     "output_type": "stream",
     "text": [
      "209129472\n"
     ]
    }
   ],
   "source": [
    "from my_train import create_training_dataset, load_vocabulary\n",
    "from model import Transformer\n",
    "import torch\n",
    "import torch.nn as nn\n",
    "import torch.nn.functional as F\n",
    "import argparse\n",
    "\n",
    "args = argparse.Namespace()\n",
    "args.src_vocab = '../corpus/vocab_en_fr.txt'\n",
    "args.tgt_vocab = '../corpus/vocab_en_fr.txt'\n",
    "args.device = 'cpu'\n",
    "\n",
    "source_vocabulary, _ = load_vocabulary(args.src_vocab)\n",
    "target_vocabulary, target_vocabulary_rev = load_vocabulary(args.tgt_vocab)\n",
    "\n",
    "bos = target_vocabulary[\"<s>\"]\n",
    "eos = target_vocabulary[\"</s>\"]\n",
    "\n",
    "model = Transformer(\n",
    "    len(source_vocabulary),\n",
    "    len(target_vocabulary),\n",
    "    share_embeddings=True,\n",
    ")\n",
    "\n",
    "model.to(args.device)\n",
    "model.train()\n",
    "\n",
    "n = 0\n",
    "for param in model.parameters():\n",
    "    n += param.numel()\n",
    "print(n)\n",
    "\n",
    "source_path = './corpus/rep_test.en.tok'\n",
    "target_path = './corpus/rep_test.fr.tok'\n",
    "\n",
    "# source_path = '../corpus/train.en.tok'\n",
    "# target_path = '../corpus/train.fr.tok'\n",
    "\n",
    "batch_type = \"tokens\"\n",
    "# batch_type is the batch_size unit, for tokens we need to give larger one\n",
    "batch_size = 1200\n",
    "effective_batch_size = 2400\n",
    "\n",
    "label_smoothing = 0.1\n",
    "padding_idx = 0\n",
    "\n",
    "max_source_len = 150\n",
    "max_target_len = 150\n",
    "world_size = 1\n",
    "\n",
    "accum_steps = (\n",
    "    effective_batch_size // (batch_size * world_size)\n",
    "    if effective_batch_size is not None\n",
    "    else 1\n",
    ")\n",
    "\n",
    "dataset = create_training_dataset(\n",
    "    source_path,\n",
    "    target_path,\n",
    "    source_vocabulary,\n",
    "    target_vocabulary,\n",
    "    batch_size=batch_size,\n",
    "    batch_type=batch_type,\n",
    "    maximum_source_length=max_source_len,\n",
    "    maximum_target_length=max_target_len,\n",
    "    device=args.device,\n",
    "    num_accum_batches=accum_steps,\n",
    ")"
   ]
  },
  {
   "cell_type": "code",
   "execution_count": 61,
   "metadata": {},
   "outputs": [
    {
     "data": {
      "text/plain": [
       "2"
      ]
     },
     "execution_count": 61,
     "metadata": {},
     "output_type": "execute_result"
    }
   ],
   "source": [
    "accum_steps"
   ]
  },
  {
   "cell_type": "code",
   "execution_count": 62,
   "metadata": {},
   "outputs": [
    {
     "name": "stderr",
     "output_type": "stream",
     "text": [
      "/nfs/RESEARCH/mao/micromamba/envs/mini-trans/lib/python3.9/site-packages/torch/cuda/__init__.py:546: UserWarning: Can't initialize NVML\n",
      "  warnings.warn(\"Can't initialize NVML\")\n",
      "2023-Jul-07 14:01:27.278000 UTC [dataset@SpawnProcess-10] INFO Shuffling 739 elements\n",
      "2023-Jul-07 14:01:27.308000 UTC [dataset@SpawnProcess-10] INFO Shuffling 739 elements\n"
     ]
    }
   ],
   "source": [
    "batches = next(iter(dataset))"
   ]
  },
  {
   "cell_type": "code",
   "execution_count": 63,
   "metadata": {},
   "outputs": [
    {
     "data": {
      "text/plain": [
       "2"
      ]
     },
     "execution_count": 63,
     "metadata": {},
     "output_type": "execute_result"
    }
   ],
   "source": [
    "len(batches)"
   ]
  },
  {
   "cell_type": "code",
   "execution_count": 67,
   "metadata": {},
   "outputs": [],
   "source": [
    "batch = batches[0]\n",
    "s, ti, to = batch"
   ]
  },
  {
   "cell_type": "code",
   "execution_count": 68,
   "metadata": {},
   "outputs": [
    {
     "data": {
      "text/plain": [
       "torch.Size([8, 76])"
      ]
     },
     "execution_count": 68,
     "metadata": {},
     "output_type": "execute_result"
    }
   ],
   "source": [
    "s.shape"
   ]
  },
  {
   "cell_type": "code",
   "execution_count": 69,
   "metadata": {},
   "outputs": [
    {
     "data": {
      "text/plain": [
       "608"
      ]
     },
     "execution_count": 69,
     "metadata": {},
     "output_type": "execute_result"
    }
   ],
   "source": [
    "s.numel()"
   ]
  },
  {
   "cell_type": "code",
   "execution_count": 70,
   "metadata": {},
   "outputs": [],
   "source": [
    "logits = model(s, ti)"
   ]
  },
  {
   "cell_type": "code",
   "execution_count": 71,
   "metadata": {},
   "outputs": [
    {
     "data": {
      "text/plain": [
       "torch.Size([8, 77, 32000])"
      ]
     },
     "execution_count": 71,
     "metadata": {},
     "output_type": "execute_result"
    }
   ],
   "source": [
    "logits.shape"
   ]
  },
  {
   "cell_type": "code",
   "execution_count": 77,
   "metadata": {},
   "outputs": [
    {
     "data": {
      "text/plain": [
       "tensor([[ 1.0671e+01, -3.8562e+01,  1.1161e+01,  2.8411e+01,  2.2927e+01,\n",
       "          1.0163e-01,  4.0305e+01,  7.4982e+00, -5.0273e+01, -4.1213e+01,\n",
       "         -1.3429e+01, -7.7591e+00, -2.7842e+01,  2.6610e+01, -2.5975e+01,\n",
       "         -3.9492e+00,  4.0974e+00,  8.8947e+00, -4.1727e+01, -1.4730e+01,\n",
       "         -6.0218e+00, -3.2468e+01,  1.9227e+01, -8.0778e+00, -1.3399e+01,\n",
       "         -3.4041e+01,  9.2794e+00, -3.2463e+01, -9.1612e+00, -4.5999e+01,\n",
       "         -3.7868e+01, -1.5562e+01,  1.3546e+01, -3.7701e+01, -1.7544e+01,\n",
       "          2.2611e+01,  8.0529e+00, -6.9963e+00,  4.8505e-01, -1.1369e+01,\n",
       "         -1.6192e+01,  1.5604e+00, -2.0238e+01, -5.1166e+01,  1.4958e+01,\n",
       "         -9.6400e+00, -2.5776e+00, -9.1963e+00, -1.5836e+01, -9.5776e-01,\n",
       "         -2.2288e+00,  1.3019e+00, -1.9664e+01,  1.0099e+01, -9.1341e+00,\n",
       "         -1.0610e+01, -1.3550e+01, -3.8314e+00, -1.2875e-01, -6.4148e+01,\n",
       "         -4.4209e+01, -5.5544e+01, -3.2088e+01, -2.6983e+01, -1.4732e+00,\n",
       "         -9.7586e+00, -1.2993e+01, -2.5738e+01, -4.3732e+01, -4.9499e+00,\n",
       "         -2.9941e+01, -1.8247e+01, -3.2695e+01, -5.3815e+00, -4.6130e+00,\n",
       "          2.4406e+00, -1.2950e+01],\n",
       "        [-3.0565e+01,  4.1652e-01,  9.6952e+00,  6.0993e+00,  5.3282e+01,\n",
       "          2.3978e+01, -1.7864e+01,  3.1686e+00, -1.0385e+01, -4.8906e+01,\n",
       "         -1.1715e+01, -2.5831e+01, -2.0470e+01, -1.9618e+01, -2.7451e+01,\n",
       "         -1.1822e+01, -4.6521e+00, -1.2034e+01, -1.8652e+01, -3.6862e-02,\n",
       "         -1.3010e+01, -1.0229e+01,  1.1231e+01, -4.3740e-01, -1.9813e+01,\n",
       "         -3.9824e+01, -2.6587e+01, -1.7924e+01, -1.3100e+00, -2.6719e+01,\n",
       "         -3.6180e+01, -2.7203e+01,  5.5582e+00, -3.0271e+01, -1.8436e+01,\n",
       "         -3.1533e+01, -2.9914e+01, -3.3938e+01, -1.3032e+01,  6.4165e+00,\n",
       "         -2.2320e+01, -3.6255e+01,  3.0426e+00, -4.2239e+01,  1.1027e+01,\n",
       "         -4.1581e+01, -3.6962e+01, -7.7500e+00, -1.7608e+01, -1.4816e+01,\n",
       "         -8.1091e+00, -4.2837e+01, -2.2850e+01, -3.3063e+00, -3.0496e+01,\n",
       "         -2.1039e+01, -3.9345e+00, -2.5414e+01, -4.2327e+01, -1.9703e+01,\n",
       "          2.3935e+00, -3.0729e+01, -2.9889e+01, -1.6018e+01, -4.4573e+00,\n",
       "         -2.2698e+00, -2.0397e+01,  8.4437e+00, -2.1406e+01, -1.5567e+01,\n",
       "         -6.3935e+00, -3.4952e+01, -2.2561e+01, -6.7667e+00,  7.3275e+00,\n",
       "         -1.8077e+01, -1.5552e+01],\n",
       "        [-2.4622e+00, -3.6949e+01, -9.5734e+00,  3.0045e+01,  1.7131e+01,\n",
       "          1.5957e+00, -1.7554e+01, -1.7460e+01,  1.0037e+01, -1.5800e+00,\n",
       "         -3.1722e+01,  1.4685e+01, -7.2280e+00,  4.0245e+00,  3.8433e+00,\n",
       "         -1.4489e+01, -8.9320e-01, -1.0864e+01, -3.8156e+01,  2.1490e+01,\n",
       "         -2.5191e+01, -1.1109e+01, -1.9391e+01, -2.4656e+01, -2.7782e+00,\n",
       "         -2.7017e+01, -2.0001e+01, -2.9208e+01, -4.0320e+01, -1.9334e+01,\n",
       "         -5.3827e+01, -5.7286e+00, -4.2744e+00, -2.4689e+01, -4.9474e+00,\n",
       "          1.2026e+01, -3.2405e+00, -5.9796e+01, -4.9616e+00,  3.6657e+00,\n",
       "         -4.1940e+01, -5.7353e+00, -3.1060e+01, -1.1442e+01, -3.8029e+01,\n",
       "         -7.2182e+01, -1.7554e+01, -1.9254e+01, -2.6640e+01, -7.4474e+00,\n",
       "          1.3191e+01,  1.8638e+01, -4.0561e+01, -2.4030e+01,  6.4447e+00,\n",
       "         -1.9172e+01, -2.2440e+01, -7.1229e+01, -4.3600e+01, -3.0000e+01,\n",
       "         -5.7968e+01, -2.2458e+01, -4.4793e+01, -2.0189e+01, -1.9279e+01,\n",
       "         -2.9129e+01,  5.6677e-02, -4.4114e+01, -5.2818e+01, -8.9741e+00,\n",
       "         -4.6191e+01, -8.0972e+00, -1.8913e+01, -3.7287e+01, -2.6154e+01,\n",
       "         -3.8225e+01, -1.3718e+01],\n",
       "        [ 1.3307e+01, -2.9773e+01,  2.0690e+01,  8.8099e+00,  5.5564e+00,\n",
       "          2.7545e+00, -2.4436e+01,  3.2778e+01, -5.3752e+01, -3.9966e+01,\n",
       "         -5.5943e-01, -2.9488e+01, -6.5336e+00, -1.6206e+01, -1.0573e+01,\n",
       "         -2.0310e+00, -2.1644e+01, -2.2698e+01, -1.7569e+01,  6.7671e+00,\n",
       "         -8.9983e+00, -5.2565e+00, -8.3642e+00, -2.1643e+01, -1.3512e+01,\n",
       "         -2.3014e+01,  2.3863e+00, -1.4937e+01, -2.3408e+01, -4.8077e+01,\n",
       "         -5.0461e+01, -6.2244e+00, -1.2210e+01, -2.2524e+01,  8.1443e+00,\n",
       "          8.2018e+00, -2.1549e+01, -3.3008e+01, -7.6559e+00, -1.1701e+01,\n",
       "         -2.2249e+01,  8.4346e+00, -3.3287e+01, -2.4036e+01, -3.6387e+01,\n",
       "          2.1049e+01, -6.0679e+00, -3.3331e+01, -3.2295e+01, -1.8540e+01,\n",
       "          2.7043e+00, -1.8919e+00, -2.3229e+01, -1.3849e+01, -4.2006e+01,\n",
       "         -5.4802e+01, -4.0721e+01, -2.2805e+01, -4.3757e+01, -2.0694e+01,\n",
       "         -4.4328e+01, -1.4082e+01, -1.9340e+01, -2.5242e+01, -4.4642e+01,\n",
       "          1.5922e+00, -2.1543e+01, -2.6662e+00,  5.2720e+00, -6.8076e+00,\n",
       "          5.6193e+00, -1.6767e+01, -6.7154e+00,  9.1903e+00, -2.7025e+01,\n",
       "         -1.9147e+01, -5.5786e+00],\n",
       "        [-1.7115e+01,  1.8633e+00, -1.3825e+01,  2.0361e+01, -1.3721e+00,\n",
       "         -3.0447e-01, -1.6528e+01, -1.5645e+01, -1.0312e+01, -1.3295e+01,\n",
       "         -2.3453e+01, -2.1259e+01,  1.7639e+00,  8.1668e-01, -3.8703e+00,\n",
       "          8.2288e-01, -7.1587e+01, -3.6807e+01, -2.1844e+01, -5.8373e+01,\n",
       "         -2.3218e+01, -2.5781e+00, -3.2673e+01, -1.2160e+01, -3.2743e+01,\n",
       "         -2.3705e+01, -4.6745e+01,  6.1004e+00, -3.6605e+01, -4.0483e+01,\n",
       "          1.1938e+00, -1.6879e+01, -3.8303e+01, -3.3762e-01, -3.0612e+00,\n",
       "         -7.8876e+00, -2.5815e+01, -6.8193e+00, -2.2368e+01, -1.2242e+01,\n",
       "         -1.1016e+01, -1.8585e+01, -2.3072e+01, -2.6882e+01, -2.0721e+01,\n",
       "         -2.9734e+01, -3.0859e+01, -2.0703e+01, -1.1772e+01, -1.7823e+01,\n",
       "         -1.5054e+01, -3.8165e+01, -6.4814e+00, -2.5400e+01, -1.5805e+01,\n",
       "         -1.3191e+01, -2.8678e+00, -4.7758e+01, -4.6257e+01, -2.7009e+01,\n",
       "         -3.6498e+01, -2.4325e+01, -8.7744e+00, -4.1062e+01, -5.9682e+00,\n",
       "         -1.6171e+01, -2.3245e+01, -1.4456e+01, -2.8231e+01, -1.1089e+01,\n",
       "         -2.0253e+01,  4.2623e+00, -2.3434e+00, -2.3085e+01,  3.4614e+01,\n",
       "         -2.7423e+01, -8.0802e+00],\n",
       "        [ 3.8003e+01,  3.5858e+01,  1.4298e+01,  9.1238e-03,  2.2117e+01,\n",
       "          9.8898e+00, -5.2589e+00,  1.1832e+01, -5.7538e+01, -3.4131e+01,\n",
       "         -1.3188e+01, -2.4739e+01, -5.1648e+01, -1.4494e+01,  2.3019e+01,\n",
       "          1.6791e+01, -4.9721e+01, -2.0621e+01,  6.5250e+00, -1.9151e+01,\n",
       "         -3.8214e+01, -2.8963e+01, -1.8899e+00, -1.3020e+01, -2.4878e+01,\n",
       "         -2.5705e+01, -1.2830e+01, -1.7467e+01, -6.4436e+00, -2.5612e+01,\n",
       "         -1.2678e+01, -1.7796e+00, -1.4762e+01,  2.3629e+01, -1.0046e+01,\n",
       "         -2.0645e+01, -1.0777e+01,  1.3337e+00, -3.8375e+00, -2.6371e+01,\n",
       "         -2.1754e+01,  1.3717e+01, -1.9563e+01, -2.8020e+01, -2.2951e+01,\n",
       "          8.4378e+00, -1.2444e+00,  1.4277e+00,  3.9364e+00, -2.5531e+01,\n",
       "         -2.7977e+01, -3.7285e+01, -2.4184e+01, -2.0141e+01,  8.9166e+00,\n",
       "         -2.3098e+01, -4.9120e+01, -6.4024e+00, -2.5457e+01, -1.8818e+01,\n",
       "         -3.0006e+01, -6.8810e+01, -5.2513e+01, -8.8337e+00, -1.1386e+01,\n",
       "          1.6354e+01, -1.9572e+01, -2.7891e+01, -1.7598e+01, -2.8748e+01,\n",
       "         -9.0596e+00, -3.8020e+01, -5.8254e+01, -1.0710e+01, -2.0057e+01,\n",
       "         -1.4831e+01, -2.0093e+01],\n",
       "        [ 2.2493e+01,  1.3856e+01,  1.9023e+00,  1.0160e+01, -8.2865e+00,\n",
       "          6.2573e+01,  4.1539e+01, -1.1904e+01,  1.6581e+01,  3.6954e+00,\n",
       "         -2.4619e+01,  2.0776e+01, -2.3488e+01,  2.9293e+01, -5.3015e+00,\n",
       "         -1.2105e+01,  1.2235e+01,  5.2752e+00, -1.9686e+01, -2.6734e+00,\n",
       "          5.2119e+00, -6.2190e+00,  8.2246e+00, -2.2250e+01, -2.9551e+01,\n",
       "         -3.0535e+00, -9.2814e+00, -5.0417e+01, -7.4850e+00, -1.6187e+01,\n",
       "          1.4420e+00, -6.1887e+01, -2.3375e+01, -1.8484e+01, -2.1725e+00,\n",
       "         -2.9909e+01, -1.3351e+01, -3.2121e+01, -1.0013e+01,  7.1394e+00,\n",
       "          1.4112e+01, -1.8798e+01, -1.7350e+01, -9.1524e+00,  6.5291e+00,\n",
       "          9.5572e+00, -4.5290e+01, -1.4222e+01, -2.7378e+01, -2.7828e+01,\n",
       "         -5.4071e+01, -2.8411e+01,  2.5121e+01, -9.3481e-01,  5.0951e+00,\n",
       "         -1.4747e+00, -1.1342e+01, -1.4937e+01, -2.8349e+01, -1.6748e+01,\n",
       "         -3.6307e+01,  1.7544e+01, -1.8317e+01,  9.0204e+00,  3.8164e+00,\n",
       "         -9.7286e+00, -2.2437e+01, -1.0222e+01, -1.0336e+01, -2.5661e+01,\n",
       "         -1.6199e+01, -1.0817e+01, -2.5316e+01, -1.5166e+01, -4.0405e+01,\n",
       "         -3.4458e+01, -2.9027e+01],\n",
       "        [ 1.9966e+01, -5.7103e+00, -9.2626e+00,  2.7040e+00, -1.7976e+01,\n",
       "         -2.8215e+01, -3.9543e+01,  5.6430e+00,  1.0709e+01, -2.2383e+01,\n",
       "         -3.1046e+01, -2.5125e+01, -9.2138e+00, -7.3534e+00,  3.4620e+00,\n",
       "         -3.1955e+01, -5.9004e+00, -1.8139e+01, -2.7482e+01,  1.6113e+01,\n",
       "         -3.8597e+00, -3.8856e+01, -8.2977e-01, -4.5841e+01, -1.7672e+01,\n",
       "         -3.6621e+01, -2.9357e+01, -7.7853e+01, -4.6672e+00, -3.0154e+01,\n",
       "         -4.3093e+01, -3.2707e+01, -2.1283e+01, -3.8115e+01, -1.7014e+01,\n",
       "         -3.3622e+00, -1.8164e+01, -2.1647e+01,  1.0028e+01, -1.0800e+01,\n",
       "         -2.6133e+01, -4.7592e+00, -4.0203e+01, -1.4814e+01, -2.1759e+01,\n",
       "         -1.4209e+01, -4.0630e+01, -2.9829e+01, -2.4108e+01, -2.4662e+01,\n",
       "         -8.0119e+00, -1.6208e+01, -3.3788e+00,  1.2455e+00, -1.3685e+01,\n",
       "         -2.7884e+01, -3.5941e+01, -4.0746e+01, -1.5350e+01,  1.4417e+01,\n",
       "         -2.7083e+01,  2.7126e+01, -1.3953e+01, -4.6965e+01, -6.8858e+00,\n",
       "          4.0743e-01, -2.5907e+01, -2.6916e+01,  1.6096e+01, -3.4170e+01,\n",
       "         -1.9315e+01, -1.3093e+01, -2.0607e+01, -4.7586e+01, -5.8461e+01,\n",
       "         -5.0890e+01, -3.0618e+01]], grad_fn=<SumBackward1>)"
      ]
     },
     "execution_count": 77,
     "metadata": {},
     "output_type": "execute_result"
    }
   ],
   "source": [
    "logits.sum(dim=2)"
   ]
  },
  {
   "cell_type": "code",
   "execution_count": 7,
   "metadata": {},
   "outputs": [
    {
     "data": {
      "text/plain": [
       "tensor(21762.)"
      ]
     },
     "execution_count": 7,
     "metadata": {},
     "output_type": "execute_result"
    }
   ],
   "source": [
    "mask = torch.load('./penalty_mask.pt')\n",
    "mask.sum()"
   ]
  },
  {
   "cell_type": "code",
   "execution_count": null,
   "metadata": {},
   "outputs": [],
   "source": [
    "weight = mask"
   ]
  },
  {
   "cell_type": "code",
   "execution_count": 103,
   "metadata": {},
   "outputs": [
    {
     "name": "stdout",
     "output_type": "stream",
     "text": [
      "8 ms ± 173 µs per loop (mean ± std. dev. of 7 runs, 100 loops each)\n"
     ]
    }
   ],
   "source": [
    "%%timeit -n 100\n",
    "l = F.cross_entropy(\n",
    "    input=logits.view(-1, logits.shape[-1]),\n",
    "    target=to.view(-1),\n",
    "    reduction='sum',\n",
    "    # weight=weight,\n",
    "    label_smoothing=label_smoothing\n",
    ")"
   ]
  },
  {
   "cell_type": "code",
   "execution_count": 85,
   "metadata": {},
   "outputs": [
    {
     "data": {
      "text/plain": [
       "torch.Size([8, 77, 32000])"
      ]
     },
     "execution_count": 85,
     "metadata": {},
     "output_type": "execute_result"
    }
   ],
   "source": [
    "logits.shape"
   ]
  },
  {
   "cell_type": "code",
   "execution_count": 89,
   "metadata": {},
   "outputs": [],
   "source": [
    "penalty_mask = torch.load('./penalty_mask.pt')"
   ]
  },
  {
   "cell_type": "code",
   "execution_count": 90,
   "metadata": {},
   "outputs": [],
   "source": [
    "from my_train import ce_loss_with_rep_penalty"
   ]
  },
  {
   "cell_type": "code",
   "execution_count": null,
   "metadata": {},
   "outputs": [],
   "source": []
  },
  {
   "cell_type": "code",
   "execution_count": 105,
   "metadata": {},
   "outputs": [
    {
     "name": "stdout",
     "output_type": "stream",
     "text": [
      "182 ms ± 8.07 ms per loop (mean ± std. dev. of 7 runs, 10 loops each)\n"
     ]
    }
   ],
   "source": [
    "%%timeit -n 10\n",
    "ce_loss_with_rep_penalty(logits, to, penalty_mask, 0.1, 0.1)"
   ]
  },
  {
   "cell_type": "code",
   "execution_count": null,
   "metadata": {},
   "outputs": [],
   "source": []
  }
 ],
 "metadata": {
  "kernelspec": {
   "display_name": "Python 3",
   "language": "python",
   "name": "python3"
  },
  "language_info": {
   "codemirror_mode": {
    "name": "ipython",
    "version": 3
   },
   "file_extension": ".py",
   "mimetype": "text/x-python",
   "name": "python",
   "nbconvert_exporter": "python",
   "pygments_lexer": "ipython3",
   "version": "3.9.0"
  },
  "orig_nbformat": 4
 },
 "nbformat": 4,
 "nbformat_minor": 2
}
